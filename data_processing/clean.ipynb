{
 "cells": [
  {
   "cell_type": "markdown",
   "id": "b462c095",
   "metadata": {},
   "source": [
    "# Limpieza de datos"
   ]
  },
  {
   "cell_type": "code",
   "execution_count": 34,
   "id": "2ad77a93",
   "metadata": {},
   "outputs": [
    {
     "name": "stdout",
     "output_type": "stream",
     "text": [
      "Primeros datos\n"
     ]
    },
    {
     "data": {
      "application/vnd.microsoft.datawrangler.viewer.v0+json": {
       "columns": [
        {
         "name": "index",
         "rawType": "int64",
         "type": "integer"
        },
        {
         "name": "CODIGO",
         "rawType": "object",
         "type": "string"
        },
        {
         "name": "DISTRITO",
         "rawType": "object",
         "type": "string"
        },
        {
         "name": "DEPARTAMENTO",
         "rawType": "object",
         "type": "string"
        },
        {
         "name": "MUNICIPIO",
         "rawType": "object",
         "type": "string"
        },
        {
         "name": "ESTABLECIMIENTO",
         "rawType": "object",
         "type": "string"
        },
        {
         "name": "DIRECCION",
         "rawType": "object",
         "type": "string"
        },
        {
         "name": "TELEFONO",
         "rawType": "object",
         "type": "unknown"
        },
        {
         "name": "SUPERVISOR",
         "rawType": "object",
         "type": "string"
        },
        {
         "name": "DIRECTOR",
         "rawType": "object",
         "type": "unknown"
        },
        {
         "name": "NIVEL",
         "rawType": "object",
         "type": "string"
        },
        {
         "name": "SECTOR",
         "rawType": "object",
         "type": "string"
        },
        {
         "name": "AREA",
         "rawType": "object",
         "type": "string"
        },
        {
         "name": "STATUS",
         "rawType": "object",
         "type": "string"
        },
        {
         "name": "MODALIDAD",
         "rawType": "object",
         "type": "string"
        },
        {
         "name": "JORNADA",
         "rawType": "object",
         "type": "string"
        },
        {
         "name": "PLAN",
         "rawType": "object",
         "type": "string"
        },
        {
         "name": "DEPARTAMENTAL",
         "rawType": "object",
         "type": "string"
        }
       ],
       "ref": "f2fae93f-5ad2-410f-a89c-8630300a2a07",
       "rows": [
        [
         "0",
         "16-01-0137-46",
         "16-006",
         "ALTA VERAPAZ",
         "COBAN",
         "INSTITUTO MIXTO NOCTURNO  FRANCISCO MARROQUIN",
         "6A. AVENIDA 1-15 ZONA 4",
         null,
         "JORGE EDUARDO PAQUE LÁZARO",
         null,
         "DIVERSIFICADO",
         "PRIVADO",
         "URBANA",
         "CERRADA DEFINITIVAMENTE",
         "MONOLINGUE",
         "NOCTURNA",
         "DIARIO(REGULAR)",
         "ALTA VERAPAZ"
        ],
        [
         "1",
         "16-01-0138-46",
         "16-031",
         "ALTA VERAPAZ",
         "COBAN",
         "COLEGIO  COBAN",
         "KM.2 SALIDA A SAN JUAN CHAMELCO ZONA 8",
         "77945104",
         "PATRICIO NAJARRO ASENCIO",
         "GUSTAVO ADOLFO SIERRA POP",
         "DIVERSIFICADO",
         "PRIVADO",
         "URBANA",
         "ABIERTA",
         "MONOLINGUE",
         "MATUTINA",
         "DIARIO(REGULAR)",
         "ALTA VERAPAZ"
        ],
        [
         "2",
         "16-01-0139-46",
         "16-031",
         "ALTA VERAPAZ",
         "COBAN",
         "COLEGIO PARTICULAR MIXTO  VERAPAZ",
         "KM 209.5 ENTRADA A LA CIUDAD",
         "77367402",
         "PATRICIO NAJARRO ASENCIO",
         "GILMA DOLORES GUAY PAZ DE LEAL",
         "DIVERSIFICADO",
         "PRIVADO",
         "URBANA",
         "ABIERTA",
         "MONOLINGUE",
         "MATUTINA",
         "DIARIO(REGULAR)",
         "ALTA VERAPAZ"
        ],
        [
         "3",
         "16-01-0140-46",
         "16-031",
         "ALTA VERAPAZ",
         "COBAN",
         "COLEGIO \"LA INMACULADA\"",
         "7A. AVENIDA 11-109 ZONA 6",
         "78232301",
         "PATRICIO NAJARRO ASENCIO",
         "VIRGINIA  SOLANO SERRANO",
         "DIVERSIFICADO",
         "PRIVADO",
         "URBANA",
         "ABIERTA",
         "MONOLINGUE",
         "MATUTINA",
         "DIARIO(REGULAR)",
         "ALTA VERAPAZ"
        ],
        [
         "4",
         "16-01-0141-46",
         "16-005",
         "ALTA VERAPAZ",
         "COBAN",
         "ESCUELA NACIONAL DE CIENCIAS COMERCIALES",
         "2A CALLE 11-10 ZONA 2",
         "79514215",
         "NORA LILIANA FIGUEROA HERNÁNDEZ",
         "HÉCTOR ROLANDO CHUN POOU",
         "DIVERSIFICADO",
         "OFICIAL",
         "URBANA",
         "ABIERTA",
         "MONOLINGUE",
         "MATUTINA",
         "DIARIO(REGULAR)",
         "ALTA VERAPAZ"
        ]
       ],
       "shape": {
        "columns": 17,
        "rows": 5
       }
      },
      "text/html": [
       "<div>\n",
       "<style scoped>\n",
       "    .dataframe tbody tr th:only-of-type {\n",
       "        vertical-align: middle;\n",
       "    }\n",
       "\n",
       "    .dataframe tbody tr th {\n",
       "        vertical-align: top;\n",
       "    }\n",
       "\n",
       "    .dataframe thead th {\n",
       "        text-align: right;\n",
       "    }\n",
       "</style>\n",
       "<table border=\"1\" class=\"dataframe\">\n",
       "  <thead>\n",
       "    <tr style=\"text-align: right;\">\n",
       "      <th></th>\n",
       "      <th>CODIGO</th>\n",
       "      <th>DISTRITO</th>\n",
       "      <th>DEPARTAMENTO</th>\n",
       "      <th>MUNICIPIO</th>\n",
       "      <th>ESTABLECIMIENTO</th>\n",
       "      <th>DIRECCION</th>\n",
       "      <th>TELEFONO</th>\n",
       "      <th>SUPERVISOR</th>\n",
       "      <th>DIRECTOR</th>\n",
       "      <th>NIVEL</th>\n",
       "      <th>SECTOR</th>\n",
       "      <th>AREA</th>\n",
       "      <th>STATUS</th>\n",
       "      <th>MODALIDAD</th>\n",
       "      <th>JORNADA</th>\n",
       "      <th>PLAN</th>\n",
       "      <th>DEPARTAMENTAL</th>\n",
       "    </tr>\n",
       "  </thead>\n",
       "  <tbody>\n",
       "    <tr>\n",
       "      <th>0</th>\n",
       "      <td>16-01-0137-46</td>\n",
       "      <td>16-006</td>\n",
       "      <td>ALTA VERAPAZ</td>\n",
       "      <td>COBAN</td>\n",
       "      <td>INSTITUTO MIXTO NOCTURNO  FRANCISCO MARROQUIN</td>\n",
       "      <td>6A. AVENIDA 1-15 ZONA 4</td>\n",
       "      <td>NaN</td>\n",
       "      <td>JORGE EDUARDO PAQUE LÁZARO</td>\n",
       "      <td>NaN</td>\n",
       "      <td>DIVERSIFICADO</td>\n",
       "      <td>PRIVADO</td>\n",
       "      <td>URBANA</td>\n",
       "      <td>CERRADA DEFINITIVAMENTE</td>\n",
       "      <td>MONOLINGUE</td>\n",
       "      <td>NOCTURNA</td>\n",
       "      <td>DIARIO(REGULAR)</td>\n",
       "      <td>ALTA VERAPAZ</td>\n",
       "    </tr>\n",
       "    <tr>\n",
       "      <th>1</th>\n",
       "      <td>16-01-0138-46</td>\n",
       "      <td>16-031</td>\n",
       "      <td>ALTA VERAPAZ</td>\n",
       "      <td>COBAN</td>\n",
       "      <td>COLEGIO  COBAN</td>\n",
       "      <td>KM.2 SALIDA A SAN JUAN CHAMELCO ZONA 8</td>\n",
       "      <td>77945104</td>\n",
       "      <td>PATRICIO NAJARRO ASENCIO</td>\n",
       "      <td>GUSTAVO ADOLFO SIERRA POP</td>\n",
       "      <td>DIVERSIFICADO</td>\n",
       "      <td>PRIVADO</td>\n",
       "      <td>URBANA</td>\n",
       "      <td>ABIERTA</td>\n",
       "      <td>MONOLINGUE</td>\n",
       "      <td>MATUTINA</td>\n",
       "      <td>DIARIO(REGULAR)</td>\n",
       "      <td>ALTA VERAPAZ</td>\n",
       "    </tr>\n",
       "    <tr>\n",
       "      <th>2</th>\n",
       "      <td>16-01-0139-46</td>\n",
       "      <td>16-031</td>\n",
       "      <td>ALTA VERAPAZ</td>\n",
       "      <td>COBAN</td>\n",
       "      <td>COLEGIO PARTICULAR MIXTO  VERAPAZ</td>\n",
       "      <td>KM 209.5 ENTRADA A LA CIUDAD</td>\n",
       "      <td>77367402</td>\n",
       "      <td>PATRICIO NAJARRO ASENCIO</td>\n",
       "      <td>GILMA DOLORES GUAY PAZ DE LEAL</td>\n",
       "      <td>DIVERSIFICADO</td>\n",
       "      <td>PRIVADO</td>\n",
       "      <td>URBANA</td>\n",
       "      <td>ABIERTA</td>\n",
       "      <td>MONOLINGUE</td>\n",
       "      <td>MATUTINA</td>\n",
       "      <td>DIARIO(REGULAR)</td>\n",
       "      <td>ALTA VERAPAZ</td>\n",
       "    </tr>\n",
       "    <tr>\n",
       "      <th>3</th>\n",
       "      <td>16-01-0140-46</td>\n",
       "      <td>16-031</td>\n",
       "      <td>ALTA VERAPAZ</td>\n",
       "      <td>COBAN</td>\n",
       "      <td>COLEGIO \"LA INMACULADA\"</td>\n",
       "      <td>7A. AVENIDA 11-109 ZONA 6</td>\n",
       "      <td>78232301</td>\n",
       "      <td>PATRICIO NAJARRO ASENCIO</td>\n",
       "      <td>VIRGINIA  SOLANO SERRANO</td>\n",
       "      <td>DIVERSIFICADO</td>\n",
       "      <td>PRIVADO</td>\n",
       "      <td>URBANA</td>\n",
       "      <td>ABIERTA</td>\n",
       "      <td>MONOLINGUE</td>\n",
       "      <td>MATUTINA</td>\n",
       "      <td>DIARIO(REGULAR)</td>\n",
       "      <td>ALTA VERAPAZ</td>\n",
       "    </tr>\n",
       "    <tr>\n",
       "      <th>4</th>\n",
       "      <td>16-01-0141-46</td>\n",
       "      <td>16-005</td>\n",
       "      <td>ALTA VERAPAZ</td>\n",
       "      <td>COBAN</td>\n",
       "      <td>ESCUELA NACIONAL DE CIENCIAS COMERCIALES</td>\n",
       "      <td>2A CALLE 11-10 ZONA 2</td>\n",
       "      <td>79514215</td>\n",
       "      <td>NORA LILIANA FIGUEROA HERNÁNDEZ</td>\n",
       "      <td>HÉCTOR ROLANDO CHUN POOU</td>\n",
       "      <td>DIVERSIFICADO</td>\n",
       "      <td>OFICIAL</td>\n",
       "      <td>URBANA</td>\n",
       "      <td>ABIERTA</td>\n",
       "      <td>MONOLINGUE</td>\n",
       "      <td>MATUTINA</td>\n",
       "      <td>DIARIO(REGULAR)</td>\n",
       "      <td>ALTA VERAPAZ</td>\n",
       "    </tr>\n",
       "  </tbody>\n",
       "</table>\n",
       "</div>"
      ],
      "text/plain": [
       "          CODIGO DISTRITO  DEPARTAMENTO MUNICIPIO  \\\n",
       "0  16-01-0137-46   16-006  ALTA VERAPAZ     COBAN   \n",
       "1  16-01-0138-46   16-031  ALTA VERAPAZ     COBAN   \n",
       "2  16-01-0139-46   16-031  ALTA VERAPAZ     COBAN   \n",
       "3  16-01-0140-46   16-031  ALTA VERAPAZ     COBAN   \n",
       "4  16-01-0141-46   16-005  ALTA VERAPAZ     COBAN   \n",
       "\n",
       "                                 ESTABLECIMIENTO  \\\n",
       "0  INSTITUTO MIXTO NOCTURNO  FRANCISCO MARROQUIN   \n",
       "1                                 COLEGIO  COBAN   \n",
       "2              COLEGIO PARTICULAR MIXTO  VERAPAZ   \n",
       "3                        COLEGIO \"LA INMACULADA\"   \n",
       "4       ESCUELA NACIONAL DE CIENCIAS COMERCIALES   \n",
       "\n",
       "                                DIRECCION  TELEFONO  \\\n",
       "0                 6A. AVENIDA 1-15 ZONA 4       NaN   \n",
       "1  KM.2 SALIDA A SAN JUAN CHAMELCO ZONA 8  77945104   \n",
       "2            KM 209.5 ENTRADA A LA CIUDAD  77367402   \n",
       "3               7A. AVENIDA 11-109 ZONA 6  78232301   \n",
       "4                   2A CALLE 11-10 ZONA 2  79514215   \n",
       "\n",
       "                        SUPERVISOR                        DIRECTOR  \\\n",
       "0       JORGE EDUARDO PAQUE LÁZARO                             NaN   \n",
       "1         PATRICIO NAJARRO ASENCIO       GUSTAVO ADOLFO SIERRA POP   \n",
       "2         PATRICIO NAJARRO ASENCIO  GILMA DOLORES GUAY PAZ DE LEAL   \n",
       "3         PATRICIO NAJARRO ASENCIO        VIRGINIA  SOLANO SERRANO   \n",
       "4  NORA LILIANA FIGUEROA HERNÁNDEZ        HÉCTOR ROLANDO CHUN POOU   \n",
       "\n",
       "           NIVEL   SECTOR    AREA                   STATUS   MODALIDAD  \\\n",
       "0  DIVERSIFICADO  PRIVADO  URBANA  CERRADA DEFINITIVAMENTE  MONOLINGUE   \n",
       "1  DIVERSIFICADO  PRIVADO  URBANA                  ABIERTA  MONOLINGUE   \n",
       "2  DIVERSIFICADO  PRIVADO  URBANA                  ABIERTA  MONOLINGUE   \n",
       "3  DIVERSIFICADO  PRIVADO  URBANA                  ABIERTA  MONOLINGUE   \n",
       "4  DIVERSIFICADO  OFICIAL  URBANA                  ABIERTA  MONOLINGUE   \n",
       "\n",
       "    JORNADA             PLAN DEPARTAMENTAL  \n",
       "0  NOCTURNA  DIARIO(REGULAR)  ALTA VERAPAZ  \n",
       "1  MATUTINA  DIARIO(REGULAR)  ALTA VERAPAZ  \n",
       "2  MATUTINA  DIARIO(REGULAR)  ALTA VERAPAZ  \n",
       "3  MATUTINA  DIARIO(REGULAR)  ALTA VERAPAZ  \n",
       "4  MATUTINA  DIARIO(REGULAR)  ALTA VERAPAZ  "
      ]
     },
     "execution_count": 34,
     "metadata": {},
     "output_type": "execute_result"
    }
   ],
   "source": [
    "import pandas as pd\n",
    "\n",
    "df = pd.read_csv('../establecimientos.csv')\n",
    "\n",
    "print(\"Primeros datos\")\n",
    "df.head()\n"
   ]
  },
  {
   "cell_type": "code",
   "execution_count": 35,
   "id": "8d1f65ca",
   "metadata": {},
   "outputs": [
    {
     "name": "stdout",
     "output_type": "stream",
     "text": [
      "Informacion del data frame\n",
      "<class 'pandas.core.frame.DataFrame'>\n",
      "RangeIndex: 11295 entries, 0 to 11294\n",
      "Data columns (total 17 columns):\n",
      " #   Column           Non-Null Count  Dtype \n",
      "---  ------           --------------  ----- \n",
      " 0   CODIGO           11272 non-null  object\n",
      " 1   DISTRITO         10747 non-null  object\n",
      " 2   DEPARTAMENTO     11272 non-null  object\n",
      " 3   MUNICIPIO        11272 non-null  object\n",
      " 4   ESTABLECIMIENTO  11268 non-null  object\n",
      " 5   DIRECCION        11194 non-null  object\n",
      " 6   TELEFONO         10337 non-null  object\n",
      " 7   SUPERVISOR       10744 non-null  object\n",
      " 8   DIRECTOR         9731 non-null   object\n",
      " 9   NIVEL            11272 non-null  object\n",
      " 10  SECTOR           11272 non-null  object\n",
      " 11  AREA             11272 non-null  object\n",
      " 12  STATUS           11272 non-null  object\n",
      " 13  MODALIDAD        11272 non-null  object\n",
      " 14  JORNADA          11272 non-null  object\n",
      " 15  PLAN             11272 non-null  object\n",
      " 16  DEPARTAMENTAL    11272 non-null  object\n",
      "dtypes: object(17)\n",
      "memory usage: 1.5+ MB\n"
     ]
    }
   ],
   "source": [
    "print(\"Informacion del data frame\")\n",
    "df.info()"
   ]
  },
  {
   "cell_type": "markdown",
   "id": "f9fa6a3b",
   "metadata": {},
   "source": [
    "# Elminando columnas innecesarias\n",
    "\n",
    "Revisando el set de datos, notamos que hay algunos registros dentro del set de datos que tienen muchas columnas vacías. Para evitar que estos registros luego causen problemas dentro de posibles análisis de datos, se eliminaron aquellos registros que tengan demasiadas columnas vacías."
   ]
  },
  {
   "cell_type": "code",
   "execution_count": 36,
   "id": "bd9907d3",
   "metadata": {},
   "outputs": [
    {
     "name": "stdout",
     "output_type": "stream",
     "text": [
      "\n",
      "--- Registros con más del 70% de columnas vacías ---\n",
      "Cantidad total: 23\n",
      "Porcentaje del total: 0.20%\n",
      "\n",
      "Ejemplos de registros problemáticos:\n",
      "     CODIGO DISTRITO DEPARTAMENTO MUNICIPIO ESTABLECIMIENTO DIRECCION  \\\n",
      "424     NaN      NaN          NaN       NaN             NaN       NaN   \n",
      "578     NaN      NaN          NaN       NaN             NaN       NaN   \n",
      "1002    NaN      NaN          NaN       NaN             NaN       NaN   \n",
      "1225    NaN      NaN          NaN       NaN             NaN       NaN   \n",
      "3348    NaN      NaN          NaN       NaN             NaN       NaN   \n",
      "\n",
      "     TELEFONO SUPERVISOR DIRECTOR NIVEL SECTOR AREA STATUS MODALIDAD JORNADA  \\\n",
      "424       NaN        NaN      NaN   NaN    NaN  NaN    NaN       NaN     NaN   \n",
      "578       NaN        NaN      NaN   NaN    NaN  NaN    NaN       NaN     NaN   \n",
      "1002      NaN        NaN      NaN   NaN    NaN  NaN    NaN       NaN     NaN   \n",
      "1225      NaN        NaN      NaN   NaN    NaN  NaN    NaN       NaN     NaN   \n",
      "3348      NaN        NaN      NaN   NaN    NaN  NaN    NaN       NaN     NaN   \n",
      "\n",
      "     PLAN DEPARTAMENTAL  porcentaje_faltante  \n",
      "424   NaN           NaN                100.0  \n",
      "578   NaN           NaN                100.0  \n",
      "1002  NaN           NaN                100.0  \n",
      "1225  NaN           NaN                100.0  \n",
      "3348  NaN           NaN                100.0  \n"
     ]
    }
   ],
   "source": [
    "import pandas as pd\n",
    "\n",
    "# Calcular el porcentaje de valores faltantes por fila\n",
    "df['porcentaje_faltante'] = df.isnull().mean(axis=1) * 100\n",
    "\n",
    "# Filtrar registros con más del 70% de columnas vacías\n",
    "umbral = 70\n",
    "registros_problematicos = df[df['porcentaje_faltante'] > umbral]\n",
    "\n",
    "print(f\"\\n--- Registros con más del {umbral}% de columnas vacías ---\")\n",
    "print(f\"Cantidad total: {len(registros_problematicos)}\")\n",
    "print(f\"Porcentaje del total: {len(registros_problematicos)/len(df)*100:.2f}%\")\n",
    "\n",
    "# Mostrar algunos ejemplos si los hay\n",
    "if not registros_problematicos.empty:\n",
    "    print(\"\\nEjemplos de registros problemáticos:\")\n",
    "    print(registros_problematicos.head())\n",
    "else:\n",
    "    print(\"\\nNo hay registros con más del 70% de columnas vacías.\")"
   ]
  },
  {
   "cell_type": "markdown",
   "id": "5c1fe483",
   "metadata": {},
   "source": [
    "Es claro que estos registros tienen demasiada data faltante. Estos registros tienen más del 70% vacío. Es por eso que decidimos eliminar estos registros, ya que no van a proveer información relevante."
   ]
  },
  {
   "cell_type": "code",
   "execution_count": 37,
   "id": "0356fec7",
   "metadata": {},
   "outputs": [],
   "source": [
    "df_limpio = df[df['porcentaje_faltante'] <= umbral].copy()"
   ]
  },
  {
   "cell_type": "markdown",
   "id": "83e1403d",
   "metadata": {},
   "source": [
    "# Cantidad de valores vacíos"
   ]
  },
  {
   "cell_type": "code",
   "execution_count": 38,
   "id": "559af997",
   "metadata": {},
   "outputs": [
    {
     "name": "stdout",
     "output_type": "stream",
     "text": [
      "Valores faltantes por columna\n"
     ]
    },
    {
     "data": {
      "application/vnd.microsoft.datawrangler.viewer.v0+json": {
       "columns": [
        {
         "name": "index",
         "rawType": "object",
         "type": "string"
        },
        {
         "name": "0",
         "rawType": "int64",
         "type": "integer"
        }
       ],
       "ref": "b11a53b4-b660-4625-928e-99efd5eda9e6",
       "rows": [
        [
         "CODIGO",
         "0"
        ],
        [
         "DISTRITO",
         "525"
        ],
        [
         "DEPARTAMENTO",
         "0"
        ],
        [
         "MUNICIPIO",
         "0"
        ],
        [
         "ESTABLECIMIENTO",
         "4"
        ],
        [
         "DIRECCION",
         "78"
        ],
        [
         "TELEFONO",
         "935"
        ],
        [
         "SUPERVISOR",
         "528"
        ],
        [
         "DIRECTOR",
         "1541"
        ],
        [
         "NIVEL",
         "0"
        ],
        [
         "SECTOR",
         "0"
        ],
        [
         "AREA",
         "0"
        ],
        [
         "STATUS",
         "0"
        ],
        [
         "MODALIDAD",
         "0"
        ],
        [
         "JORNADA",
         "0"
        ],
        [
         "PLAN",
         "0"
        ],
        [
         "DEPARTAMENTAL",
         "0"
        ]
       ],
       "shape": {
        "columns": 1,
        "rows": 17
       }
      },
      "text/plain": [
       "CODIGO                0\n",
       "DISTRITO            525\n",
       "DEPARTAMENTO          0\n",
       "MUNICIPIO             0\n",
       "ESTABLECIMIENTO       4\n",
       "DIRECCION            78\n",
       "TELEFONO            935\n",
       "SUPERVISOR          528\n",
       "DIRECTOR           1541\n",
       "NIVEL                 0\n",
       "SECTOR                0\n",
       "AREA                  0\n",
       "STATUS                0\n",
       "MODALIDAD             0\n",
       "JORNADA               0\n",
       "PLAN                  0\n",
       "DEPARTAMENTAL         0\n",
       "dtype: int64"
      ]
     },
     "execution_count": 38,
     "metadata": {},
     "output_type": "execute_result"
    }
   ],
   "source": [
    "print(\"Valores faltantes por columna\")\n",
    "\n",
    "df_limpio.drop('porcentaje_faltante', axis=1, inplace=True)\n",
    "df_limpio.isnull().sum()"
   ]
  },
  {
   "cell_type": "markdown",
   "id": "93046aed",
   "metadata": {},
   "source": [
    "Como se puede ver, hay distintas columnas que tienen valores vacíos aun. En todos los casos son columnas categóricas, por lo que no se puede rellenar el valor vacío mediante la inserción de datos con la media o promedio. Entonces para los valores vacíos se proponen los siguientes valores para las columnas:\n",
    "\n",
    "\n",
    "* **DISTRITO**: 'DISTRITO_NO_ESPECIFICADO',\n",
    "* **ESTABLECIMIENTO**: 'NOMBRE_ESTABLECIMIENTO_DESCONOCIDO',\n",
    "* **DIRECCION**: 'DIRECCION_NO_REGISTRADA',\n",
    "* **TELEFONO**: 'SIN_TELEFONO',\n",
    "* **SUPERVISOR**: 'SUPERVISOR_NO_ESPECIFICADO',\n",
    "* **DIRECTOR**: 'DIRECTOR_NO_ESPECIFICADO'"
   ]
  },
  {
   "cell_type": "code",
   "execution_count": null,
   "id": "70aa967c",
   "metadata": {},
   "outputs": [
    {
     "name": "stdout",
     "output_type": "stream",
     "text": [
      "\n",
      "--- Conteo de valores faltantes después del rellenado ---\n"
     ]
    },
    {
     "data": {
      "application/vnd.microsoft.datawrangler.viewer.v0+json": {
       "columns": [
        {
         "name": "index",
         "rawType": "object",
         "type": "string"
        },
        {
         "name": "0",
         "rawType": "int64",
         "type": "integer"
        }
       ],
       "ref": "9e0685ff-868b-4f45-a932-7486865109af",
       "rows": [
        [
         "CODIGO",
         "0"
        ],
        [
         "DISTRITO",
         "0"
        ],
        [
         "DEPARTAMENTO",
         "0"
        ],
        [
         "MUNICIPIO",
         "0"
        ],
        [
         "ESTABLECIMIENTO",
         "0"
        ],
        [
         "DIRECCION",
         "0"
        ],
        [
         "TELEFONO",
         "0"
        ],
        [
         "SUPERVISOR",
         "0"
        ],
        [
         "DIRECTOR",
         "0"
        ],
        [
         "NIVEL",
         "0"
        ],
        [
         "SECTOR",
         "0"
        ],
        [
         "AREA",
         "0"
        ],
        [
         "STATUS",
         "0"
        ],
        [
         "MODALIDAD",
         "0"
        ],
        [
         "JORNADA",
         "0"
        ],
        [
         "PLAN",
         "0"
        ],
        [
         "DEPARTAMENTAL",
         "0"
        ]
       ],
       "shape": {
        "columns": 1,
        "rows": 17
       }
      },
      "text/plain": [
       "CODIGO             0\n",
       "DISTRITO           0\n",
       "DEPARTAMENTO       0\n",
       "MUNICIPIO          0\n",
       "ESTABLECIMIENTO    0\n",
       "DIRECCION          0\n",
       "TELEFONO           0\n",
       "SUPERVISOR         0\n",
       "DIRECTOR           0\n",
       "NIVEL              0\n",
       "SECTOR             0\n",
       "AREA               0\n",
       "STATUS             0\n",
       "MODALIDAD          0\n",
       "JORNADA            0\n",
       "PLAN               0\n",
       "DEPARTAMENTAL      0\n",
       "dtype: int64"
      ]
     },
     "execution_count": 39,
     "metadata": {},
     "output_type": "execute_result"
    }
   ],
   "source": [
    "# Diccionario de valores de reemplazo para cada columna\n",
    "valores_relleno = {\n",
    "    'DISTRITO': 'DISTRITO_NO_ESPECIFICADO',\n",
    "    'ESTABLECIMIENTO': 'NOMBRE_ESTABLECIMIENTO_DESCONOCIDO',\n",
    "    'DIRECCION': 'DIRECCION_NO_REGISTRADA',\n",
    "    'TELEFONO': 'SIN_TELEFONO',\n",
    "    'SUPERVISOR': 'SUPERVISOR_NO_ESPECIFICADO',\n",
    "    'DIRECTOR': 'DIRECTOR_NO_ESPECIFICADO'\n",
    "}\n",
    "\n",
    "df_limpio = df_limpio.fillna(valores_relleno)\n",
    "\n",
    "#confirmar que funciono\n",
    "print(\"\\n--- Conteo de valores faltante ---\")\n",
    "df_limpio.isnull().sum()\n"
   ]
  },
  {
   "cell_type": "markdown",
   "id": "a6868751",
   "metadata": {},
   "source": [
    "Ahora que los datos ya se encuentran sin valores vacíos, es importante normalizar algunas de las columnas. Con normalizar nos referimos a volver los valores de las cadenas todos mayusculas, o bien todo minuscula en el caso de nombres de lugares y personas. "
   ]
  },
  {
   "cell_type": "code",
   "execution_count": null,
   "id": "b76bdf67",
   "metadata": {},
   "outputs": [],
   "source": [
    "# Volver departamento, municipio, establecimiento, direccion, supervisor, director a mayuscula\n",
    "\n",
    "# normalizar el numero de telefono\n",
    "\n",
    "# direccion "
   ]
  }
 ],
 "metadata": {
  "kernelspec": {
   "display_name": "Python 3",
   "language": "python",
   "name": "python3"
  },
  "language_info": {
   "codemirror_mode": {
    "name": "ipython",
    "version": 3
   },
   "file_extension": ".py",
   "mimetype": "text/x-python",
   "name": "python",
   "nbconvert_exporter": "python",
   "pygments_lexer": "ipython3",
   "version": "3.12.2"
  }
 },
 "nbformat": 4,
 "nbformat_minor": 5
}
