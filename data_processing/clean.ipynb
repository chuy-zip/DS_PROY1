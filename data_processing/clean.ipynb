{
 "cells": [
  {
   "cell_type": "markdown",
   "id": "b462c095",
   "metadata": {},
   "source": [
    "# Limpieza de datos"
   ]
  },
  {
   "cell_type": "code",
   "execution_count": 115,
   "id": "2ad77a93",
   "metadata": {},
   "outputs": [
    {
     "name": "stdout",
     "output_type": "stream",
     "text": [
      "Primeros datos\n"
     ]
    },
    {
     "data": {
      "application/vnd.microsoft.datawrangler.viewer.v0+json": {
       "columns": [
        {
         "name": "index",
         "rawType": "int64",
         "type": "integer"
        },
        {
         "name": "CODIGO",
         "rawType": "object",
         "type": "string"
        },
        {
         "name": "DISTRITO",
         "rawType": "object",
         "type": "string"
        },
        {
         "name": "DEPARTAMENTO",
         "rawType": "object",
         "type": "string"
        },
        {
         "name": "MUNICIPIO",
         "rawType": "object",
         "type": "string"
        },
        {
         "name": "ESTABLECIMIENTO",
         "rawType": "object",
         "type": "string"
        },
        {
         "name": "DIRECCION",
         "rawType": "object",
         "type": "string"
        },
        {
         "name": "TELEFONO",
         "rawType": "object",
         "type": "unknown"
        },
        {
         "name": "SUPERVISOR",
         "rawType": "object",
         "type": "string"
        },
        {
         "name": "DIRECTOR",
         "rawType": "object",
         "type": "unknown"
        },
        {
         "name": "NIVEL",
         "rawType": "object",
         "type": "string"
        },
        {
         "name": "SECTOR",
         "rawType": "object",
         "type": "string"
        },
        {
         "name": "AREA",
         "rawType": "object",
         "type": "string"
        },
        {
         "name": "STATUS",
         "rawType": "object",
         "type": "string"
        },
        {
         "name": "MODALIDAD",
         "rawType": "object",
         "type": "string"
        },
        {
         "name": "JORNADA",
         "rawType": "object",
         "type": "string"
        },
        {
         "name": "PLAN",
         "rawType": "object",
         "type": "string"
        },
        {
         "name": "DEPARTAMENTAL",
         "rawType": "object",
         "type": "string"
        }
       ],
       "ref": "d7745dc1-fa4f-4430-a0bc-30234fdc19a7",
       "rows": [
        [
         "0",
         "16-01-0137-46",
         "16-006",
         "ALTA VERAPAZ",
         "COBAN",
         "INSTITUTO MIXTO NOCTURNO  FRANCISCO MARROQUIN",
         "6A. AVENIDA 1-15 ZONA 4",
         null,
         "JORGE EDUARDO PAQUE LÁZARO",
         null,
         "DIVERSIFICADO",
         "PRIVADO",
         "URBANA",
         "CERRADA DEFINITIVAMENTE",
         "MONOLINGUE",
         "NOCTURNA",
         "DIARIO(REGULAR)",
         "ALTA VERAPAZ"
        ],
        [
         "1",
         "16-01-0138-46",
         "16-031",
         "ALTA VERAPAZ",
         "COBAN",
         "COLEGIO  COBAN",
         "KM.2 SALIDA A SAN JUAN CHAMELCO ZONA 8",
         "77945104",
         "PATRICIO NAJARRO ASENCIO",
         "GUSTAVO ADOLFO SIERRA POP",
         "DIVERSIFICADO",
         "PRIVADO",
         "URBANA",
         "ABIERTA",
         "MONOLINGUE",
         "MATUTINA",
         "DIARIO(REGULAR)",
         "ALTA VERAPAZ"
        ],
        [
         "2",
         "16-01-0139-46",
         "16-031",
         "ALTA VERAPAZ",
         "COBAN",
         "COLEGIO PARTICULAR MIXTO  VERAPAZ",
         "KM 209.5 ENTRADA A LA CIUDAD",
         "77367402",
         "PATRICIO NAJARRO ASENCIO",
         "GILMA DOLORES GUAY PAZ DE LEAL",
         "DIVERSIFICADO",
         "PRIVADO",
         "URBANA",
         "ABIERTA",
         "MONOLINGUE",
         "MATUTINA",
         "DIARIO(REGULAR)",
         "ALTA VERAPAZ"
        ],
        [
         "3",
         "16-01-0140-46",
         "16-031",
         "ALTA VERAPAZ",
         "COBAN",
         "COLEGIO \"LA INMACULADA\"",
         "7A. AVENIDA 11-109 ZONA 6",
         "78232301",
         "PATRICIO NAJARRO ASENCIO",
         "VIRGINIA  SOLANO SERRANO",
         "DIVERSIFICADO",
         "PRIVADO",
         "URBANA",
         "ABIERTA",
         "MONOLINGUE",
         "MATUTINA",
         "DIARIO(REGULAR)",
         "ALTA VERAPAZ"
        ],
        [
         "4",
         "16-01-0141-46",
         "16-005",
         "ALTA VERAPAZ",
         "COBAN",
         "ESCUELA NACIONAL DE CIENCIAS COMERCIALES",
         "2A CALLE 11-10 ZONA 2",
         "79514215",
         "NORA LILIANA FIGUEROA HERNÁNDEZ",
         "HÉCTOR ROLANDO CHUN POOU",
         "DIVERSIFICADO",
         "OFICIAL",
         "URBANA",
         "ABIERTA",
         "MONOLINGUE",
         "MATUTINA",
         "DIARIO(REGULAR)",
         "ALTA VERAPAZ"
        ]
       ],
       "shape": {
        "columns": 17,
        "rows": 5
       }
      },
      "text/html": [
       "<div>\n",
       "<style scoped>\n",
       "    .dataframe tbody tr th:only-of-type {\n",
       "        vertical-align: middle;\n",
       "    }\n",
       "\n",
       "    .dataframe tbody tr th {\n",
       "        vertical-align: top;\n",
       "    }\n",
       "\n",
       "    .dataframe thead th {\n",
       "        text-align: right;\n",
       "    }\n",
       "</style>\n",
       "<table border=\"1\" class=\"dataframe\">\n",
       "  <thead>\n",
       "    <tr style=\"text-align: right;\">\n",
       "      <th></th>\n",
       "      <th>CODIGO</th>\n",
       "      <th>DISTRITO</th>\n",
       "      <th>DEPARTAMENTO</th>\n",
       "      <th>MUNICIPIO</th>\n",
       "      <th>ESTABLECIMIENTO</th>\n",
       "      <th>DIRECCION</th>\n",
       "      <th>TELEFONO</th>\n",
       "      <th>SUPERVISOR</th>\n",
       "      <th>DIRECTOR</th>\n",
       "      <th>NIVEL</th>\n",
       "      <th>SECTOR</th>\n",
       "      <th>AREA</th>\n",
       "      <th>STATUS</th>\n",
       "      <th>MODALIDAD</th>\n",
       "      <th>JORNADA</th>\n",
       "      <th>PLAN</th>\n",
       "      <th>DEPARTAMENTAL</th>\n",
       "    </tr>\n",
       "  </thead>\n",
       "  <tbody>\n",
       "    <tr>\n",
       "      <th>0</th>\n",
       "      <td>16-01-0137-46</td>\n",
       "      <td>16-006</td>\n",
       "      <td>ALTA VERAPAZ</td>\n",
       "      <td>COBAN</td>\n",
       "      <td>INSTITUTO MIXTO NOCTURNO  FRANCISCO MARROQUIN</td>\n",
       "      <td>6A. AVENIDA 1-15 ZONA 4</td>\n",
       "      <td>NaN</td>\n",
       "      <td>JORGE EDUARDO PAQUE LÁZARO</td>\n",
       "      <td>NaN</td>\n",
       "      <td>DIVERSIFICADO</td>\n",
       "      <td>PRIVADO</td>\n",
       "      <td>URBANA</td>\n",
       "      <td>CERRADA DEFINITIVAMENTE</td>\n",
       "      <td>MONOLINGUE</td>\n",
       "      <td>NOCTURNA</td>\n",
       "      <td>DIARIO(REGULAR)</td>\n",
       "      <td>ALTA VERAPAZ</td>\n",
       "    </tr>\n",
       "    <tr>\n",
       "      <th>1</th>\n",
       "      <td>16-01-0138-46</td>\n",
       "      <td>16-031</td>\n",
       "      <td>ALTA VERAPAZ</td>\n",
       "      <td>COBAN</td>\n",
       "      <td>COLEGIO  COBAN</td>\n",
       "      <td>KM.2 SALIDA A SAN JUAN CHAMELCO ZONA 8</td>\n",
       "      <td>77945104</td>\n",
       "      <td>PATRICIO NAJARRO ASENCIO</td>\n",
       "      <td>GUSTAVO ADOLFO SIERRA POP</td>\n",
       "      <td>DIVERSIFICADO</td>\n",
       "      <td>PRIVADO</td>\n",
       "      <td>URBANA</td>\n",
       "      <td>ABIERTA</td>\n",
       "      <td>MONOLINGUE</td>\n",
       "      <td>MATUTINA</td>\n",
       "      <td>DIARIO(REGULAR)</td>\n",
       "      <td>ALTA VERAPAZ</td>\n",
       "    </tr>\n",
       "    <tr>\n",
       "      <th>2</th>\n",
       "      <td>16-01-0139-46</td>\n",
       "      <td>16-031</td>\n",
       "      <td>ALTA VERAPAZ</td>\n",
       "      <td>COBAN</td>\n",
       "      <td>COLEGIO PARTICULAR MIXTO  VERAPAZ</td>\n",
       "      <td>KM 209.5 ENTRADA A LA CIUDAD</td>\n",
       "      <td>77367402</td>\n",
       "      <td>PATRICIO NAJARRO ASENCIO</td>\n",
       "      <td>GILMA DOLORES GUAY PAZ DE LEAL</td>\n",
       "      <td>DIVERSIFICADO</td>\n",
       "      <td>PRIVADO</td>\n",
       "      <td>URBANA</td>\n",
       "      <td>ABIERTA</td>\n",
       "      <td>MONOLINGUE</td>\n",
       "      <td>MATUTINA</td>\n",
       "      <td>DIARIO(REGULAR)</td>\n",
       "      <td>ALTA VERAPAZ</td>\n",
       "    </tr>\n",
       "    <tr>\n",
       "      <th>3</th>\n",
       "      <td>16-01-0140-46</td>\n",
       "      <td>16-031</td>\n",
       "      <td>ALTA VERAPAZ</td>\n",
       "      <td>COBAN</td>\n",
       "      <td>COLEGIO \"LA INMACULADA\"</td>\n",
       "      <td>7A. AVENIDA 11-109 ZONA 6</td>\n",
       "      <td>78232301</td>\n",
       "      <td>PATRICIO NAJARRO ASENCIO</td>\n",
       "      <td>VIRGINIA  SOLANO SERRANO</td>\n",
       "      <td>DIVERSIFICADO</td>\n",
       "      <td>PRIVADO</td>\n",
       "      <td>URBANA</td>\n",
       "      <td>ABIERTA</td>\n",
       "      <td>MONOLINGUE</td>\n",
       "      <td>MATUTINA</td>\n",
       "      <td>DIARIO(REGULAR)</td>\n",
       "      <td>ALTA VERAPAZ</td>\n",
       "    </tr>\n",
       "    <tr>\n",
       "      <th>4</th>\n",
       "      <td>16-01-0141-46</td>\n",
       "      <td>16-005</td>\n",
       "      <td>ALTA VERAPAZ</td>\n",
       "      <td>COBAN</td>\n",
       "      <td>ESCUELA NACIONAL DE CIENCIAS COMERCIALES</td>\n",
       "      <td>2A CALLE 11-10 ZONA 2</td>\n",
       "      <td>79514215</td>\n",
       "      <td>NORA LILIANA FIGUEROA HERNÁNDEZ</td>\n",
       "      <td>HÉCTOR ROLANDO CHUN POOU</td>\n",
       "      <td>DIVERSIFICADO</td>\n",
       "      <td>OFICIAL</td>\n",
       "      <td>URBANA</td>\n",
       "      <td>ABIERTA</td>\n",
       "      <td>MONOLINGUE</td>\n",
       "      <td>MATUTINA</td>\n",
       "      <td>DIARIO(REGULAR)</td>\n",
       "      <td>ALTA VERAPAZ</td>\n",
       "    </tr>\n",
       "  </tbody>\n",
       "</table>\n",
       "</div>"
      ],
      "text/plain": [
       "          CODIGO DISTRITO  DEPARTAMENTO MUNICIPIO  \\\n",
       "0  16-01-0137-46   16-006  ALTA VERAPAZ     COBAN   \n",
       "1  16-01-0138-46   16-031  ALTA VERAPAZ     COBAN   \n",
       "2  16-01-0139-46   16-031  ALTA VERAPAZ     COBAN   \n",
       "3  16-01-0140-46   16-031  ALTA VERAPAZ     COBAN   \n",
       "4  16-01-0141-46   16-005  ALTA VERAPAZ     COBAN   \n",
       "\n",
       "                                 ESTABLECIMIENTO  \\\n",
       "0  INSTITUTO MIXTO NOCTURNO  FRANCISCO MARROQUIN   \n",
       "1                                 COLEGIO  COBAN   \n",
       "2              COLEGIO PARTICULAR MIXTO  VERAPAZ   \n",
       "3                        COLEGIO \"LA INMACULADA\"   \n",
       "4       ESCUELA NACIONAL DE CIENCIAS COMERCIALES   \n",
       "\n",
       "                                DIRECCION  TELEFONO  \\\n",
       "0                 6A. AVENIDA 1-15 ZONA 4       NaN   \n",
       "1  KM.2 SALIDA A SAN JUAN CHAMELCO ZONA 8  77945104   \n",
       "2            KM 209.5 ENTRADA A LA CIUDAD  77367402   \n",
       "3               7A. AVENIDA 11-109 ZONA 6  78232301   \n",
       "4                   2A CALLE 11-10 ZONA 2  79514215   \n",
       "\n",
       "                        SUPERVISOR                        DIRECTOR  \\\n",
       "0       JORGE EDUARDO PAQUE LÁZARO                             NaN   \n",
       "1         PATRICIO NAJARRO ASENCIO       GUSTAVO ADOLFO SIERRA POP   \n",
       "2         PATRICIO NAJARRO ASENCIO  GILMA DOLORES GUAY PAZ DE LEAL   \n",
       "3         PATRICIO NAJARRO ASENCIO        VIRGINIA  SOLANO SERRANO   \n",
       "4  NORA LILIANA FIGUEROA HERNÁNDEZ        HÉCTOR ROLANDO CHUN POOU   \n",
       "\n",
       "           NIVEL   SECTOR    AREA                   STATUS   MODALIDAD  \\\n",
       "0  DIVERSIFICADO  PRIVADO  URBANA  CERRADA DEFINITIVAMENTE  MONOLINGUE   \n",
       "1  DIVERSIFICADO  PRIVADO  URBANA                  ABIERTA  MONOLINGUE   \n",
       "2  DIVERSIFICADO  PRIVADO  URBANA                  ABIERTA  MONOLINGUE   \n",
       "3  DIVERSIFICADO  PRIVADO  URBANA                  ABIERTA  MONOLINGUE   \n",
       "4  DIVERSIFICADO  OFICIAL  URBANA                  ABIERTA  MONOLINGUE   \n",
       "\n",
       "    JORNADA             PLAN DEPARTAMENTAL  \n",
       "0  NOCTURNA  DIARIO(REGULAR)  ALTA VERAPAZ  \n",
       "1  MATUTINA  DIARIO(REGULAR)  ALTA VERAPAZ  \n",
       "2  MATUTINA  DIARIO(REGULAR)  ALTA VERAPAZ  \n",
       "3  MATUTINA  DIARIO(REGULAR)  ALTA VERAPAZ  \n",
       "4  MATUTINA  DIARIO(REGULAR)  ALTA VERAPAZ  "
      ]
     },
     "execution_count": 115,
     "metadata": {},
     "output_type": "execute_result"
    }
   ],
   "source": [
    "import pandas as pd\n",
    "\n",
    "df = pd.read_csv('../establecimientos.csv')\n",
    "\n",
    "print(\"Primeros datos\")\n",
    "df.head()\n"
   ]
  },
  {
   "cell_type": "code",
   "execution_count": 116,
   "id": "8d1f65ca",
   "metadata": {},
   "outputs": [
    {
     "name": "stdout",
     "output_type": "stream",
     "text": [
      "Informacion del data frame\n",
      "<class 'pandas.core.frame.DataFrame'>\n",
      "RangeIndex: 11295 entries, 0 to 11294\n",
      "Data columns (total 17 columns):\n",
      " #   Column           Non-Null Count  Dtype \n",
      "---  ------           --------------  ----- \n",
      " 0   CODIGO           11272 non-null  object\n",
      " 1   DISTRITO         10747 non-null  object\n",
      " 2   DEPARTAMENTO     11272 non-null  object\n",
      " 3   MUNICIPIO        11272 non-null  object\n",
      " 4   ESTABLECIMIENTO  11268 non-null  object\n",
      " 5   DIRECCION        11194 non-null  object\n",
      " 6   TELEFONO         10337 non-null  object\n",
      " 7   SUPERVISOR       10744 non-null  object\n",
      " 8   DIRECTOR         9731 non-null   object\n",
      " 9   NIVEL            11272 non-null  object\n",
      " 10  SECTOR           11272 non-null  object\n",
      " 11  AREA             11272 non-null  object\n",
      " 12  STATUS           11272 non-null  object\n",
      " 13  MODALIDAD        11272 non-null  object\n",
      " 14  JORNADA          11272 non-null  object\n",
      " 15  PLAN             11272 non-null  object\n",
      " 16  DEPARTAMENTAL    11272 non-null  object\n",
      "dtypes: object(17)\n",
      "memory usage: 1.5+ MB\n"
     ]
    }
   ],
   "source": [
    "print(\"Informacion del data frame\")\n",
    "df.info()"
   ]
  },
  {
   "cell_type": "markdown",
   "id": "f9fa6a3b",
   "metadata": {},
   "source": [
    "# Elminando columnas innecesarias\n",
    "\n",
    "Revisando el set de datos, notamos que hay algunos registros dentro del set de datos que tienen muchas columnas vacías. Para evitar que estos registros luego causen problemas dentro de posibles análisis de datos, se eliminaron aquellos registros que tengan demasiadas columnas vacías."
   ]
  },
  {
   "cell_type": "code",
   "execution_count": 117,
   "id": "bd9907d3",
   "metadata": {},
   "outputs": [
    {
     "name": "stdout",
     "output_type": "stream",
     "text": [
      "\n",
      "--- Registros con más del 70% de columnas vacías ---\n",
      "Cantidad total: 23\n",
      "Porcentaje del total: 0.20%\n",
      "\n",
      "Ejemplos de registros problemáticos:\n",
      "     CODIGO DISTRITO DEPARTAMENTO MUNICIPIO ESTABLECIMIENTO DIRECCION  \\\n",
      "424     NaN      NaN          NaN       NaN             NaN       NaN   \n",
      "578     NaN      NaN          NaN       NaN             NaN       NaN   \n",
      "1002    NaN      NaN          NaN       NaN             NaN       NaN   \n",
      "1225    NaN      NaN          NaN       NaN             NaN       NaN   \n",
      "3348    NaN      NaN          NaN       NaN             NaN       NaN   \n",
      "\n",
      "     TELEFONO SUPERVISOR DIRECTOR NIVEL SECTOR AREA STATUS MODALIDAD JORNADA  \\\n",
      "424       NaN        NaN      NaN   NaN    NaN  NaN    NaN       NaN     NaN   \n",
      "578       NaN        NaN      NaN   NaN    NaN  NaN    NaN       NaN     NaN   \n",
      "1002      NaN        NaN      NaN   NaN    NaN  NaN    NaN       NaN     NaN   \n",
      "1225      NaN        NaN      NaN   NaN    NaN  NaN    NaN       NaN     NaN   \n",
      "3348      NaN        NaN      NaN   NaN    NaN  NaN    NaN       NaN     NaN   \n",
      "\n",
      "     PLAN DEPARTAMENTAL  porcentaje_faltante  \n",
      "424   NaN           NaN                100.0  \n",
      "578   NaN           NaN                100.0  \n",
      "1002  NaN           NaN                100.0  \n",
      "1225  NaN           NaN                100.0  \n",
      "3348  NaN           NaN                100.0  \n"
     ]
    }
   ],
   "source": [
    "import pandas as pd\n",
    "\n",
    "# Calcular el porcentaje de valores faltantes por fila\n",
    "df['porcentaje_faltante'] = df.isnull().mean(axis=1) * 100\n",
    "\n",
    "# Filtrar registros con más del 70% de columnas vacías\n",
    "umbral = 70\n",
    "registros_problematicos = df[df['porcentaje_faltante'] > umbral]\n",
    "\n",
    "print(f\"\\n--- Registros con más del {umbral}% de columnas vacías ---\")\n",
    "print(f\"Cantidad total: {len(registros_problematicos)}\")\n",
    "print(f\"Porcentaje del total: {len(registros_problematicos)/len(df)*100:.2f}%\")\n",
    "\n",
    "# Mostrar algunos ejemplos si los hay\n",
    "if not registros_problematicos.empty:\n",
    "    print(\"\\nEjemplos de registros problemáticos:\")\n",
    "    print(registros_problematicos.head())\n",
    "else:\n",
    "    print(\"\\nNo hay registros con más del 70% de columnas vacías.\")"
   ]
  },
  {
   "cell_type": "markdown",
   "id": "5c1fe483",
   "metadata": {},
   "source": [
    "Es claro que estos registros tienen demasiada data faltante. Estos registros tienen más del 70% vacío. Es por eso que decidimos eliminar estos registros, ya que no van a proveer información relevante."
   ]
  },
  {
   "cell_type": "code",
   "execution_count": 118,
   "id": "0356fec7",
   "metadata": {},
   "outputs": [],
   "source": [
    "df_limpio = df[df['porcentaje_faltante'] <= umbral].copy()"
   ]
  },
  {
   "cell_type": "markdown",
   "id": "83e1403d",
   "metadata": {},
   "source": [
    "# Cantidad de valores vacíos"
   ]
  },
  {
   "cell_type": "code",
   "execution_count": 119,
   "id": "559af997",
   "metadata": {},
   "outputs": [
    {
     "name": "stdout",
     "output_type": "stream",
     "text": [
      "Valores faltantes por columna\n"
     ]
    },
    {
     "data": {
      "application/vnd.microsoft.datawrangler.viewer.v0+json": {
       "columns": [
        {
         "name": "index",
         "rawType": "object",
         "type": "string"
        },
        {
         "name": "0",
         "rawType": "int64",
         "type": "integer"
        }
       ],
       "ref": "f00aad27-bd5b-40e0-bd8a-7c98fe98ba90",
       "rows": [
        [
         "CODIGO",
         "0"
        ],
        [
         "DISTRITO",
         "525"
        ],
        [
         "DEPARTAMENTO",
         "0"
        ],
        [
         "MUNICIPIO",
         "0"
        ],
        [
         "ESTABLECIMIENTO",
         "4"
        ],
        [
         "DIRECCION",
         "78"
        ],
        [
         "TELEFONO",
         "935"
        ],
        [
         "SUPERVISOR",
         "528"
        ],
        [
         "DIRECTOR",
         "1541"
        ],
        [
         "NIVEL",
         "0"
        ],
        [
         "SECTOR",
         "0"
        ],
        [
         "AREA",
         "0"
        ],
        [
         "STATUS",
         "0"
        ],
        [
         "MODALIDAD",
         "0"
        ],
        [
         "JORNADA",
         "0"
        ],
        [
         "PLAN",
         "0"
        ],
        [
         "DEPARTAMENTAL",
         "0"
        ]
       ],
       "shape": {
        "columns": 1,
        "rows": 17
       }
      },
      "text/plain": [
       "CODIGO                0\n",
       "DISTRITO            525\n",
       "DEPARTAMENTO          0\n",
       "MUNICIPIO             0\n",
       "ESTABLECIMIENTO       4\n",
       "DIRECCION            78\n",
       "TELEFONO            935\n",
       "SUPERVISOR          528\n",
       "DIRECTOR           1541\n",
       "NIVEL                 0\n",
       "SECTOR                0\n",
       "AREA                  0\n",
       "STATUS                0\n",
       "MODALIDAD             0\n",
       "JORNADA               0\n",
       "PLAN                  0\n",
       "DEPARTAMENTAL         0\n",
       "dtype: int64"
      ]
     },
     "execution_count": 119,
     "metadata": {},
     "output_type": "execute_result"
    }
   ],
   "source": [
    "print(\"Valores faltantes por columna\")\n",
    "\n",
    "df_limpio.drop('porcentaje_faltante', axis=1, inplace=True)\n",
    "df_limpio.isnull().sum()"
   ]
  },
  {
   "cell_type": "markdown",
   "id": "93046aed",
   "metadata": {},
   "source": [
    "Como se puede ver, hay distintas columnas que tienen valores vacíos aun. En todos los casos son columnas categóricas, por lo que no se puede rellenar el valor vacío mediante la inserción de datos con la media o promedio. Entonces para los valores vacíos se proponen los siguientes valores para las columnas:\n",
    "\n",
    "\n",
    "* **DISTRITO**: 'DISTRITO_NO_ESPECIFICADO',\n",
    "* **ESTABLECIMIENTO**: 'NOMBRE_ESTABLECIMIENTO_DESCONOCIDO',\n",
    "* **DIRECCION**: 'DIRECCION_NO_REGISTRADA',\n",
    "* **TELEFONO**: 'SIN_TELEFONO',\n",
    "* **SUPERVISOR**: 'SUPERVISOR_NO_ESPECIFICADO',\n",
    "* **DIRECTOR**: 'DIRECTOR_NO_ESPECIFICADO'"
   ]
  },
  {
   "cell_type": "code",
   "execution_count": 120,
   "id": "70aa967c",
   "metadata": {},
   "outputs": [
    {
     "name": "stdout",
     "output_type": "stream",
     "text": [
      "\n",
      "--- Conteo de valores faltante ---\n"
     ]
    },
    {
     "data": {
      "application/vnd.microsoft.datawrangler.viewer.v0+json": {
       "columns": [
        {
         "name": "index",
         "rawType": "object",
         "type": "string"
        },
        {
         "name": "0",
         "rawType": "int64",
         "type": "integer"
        }
       ],
       "ref": "e895997d-9050-4d91-b931-cd64d255e63e",
       "rows": [
        [
         "CODIGO",
         "0"
        ],
        [
         "DISTRITO",
         "0"
        ],
        [
         "DEPARTAMENTO",
         "0"
        ],
        [
         "MUNICIPIO",
         "0"
        ],
        [
         "ESTABLECIMIENTO",
         "0"
        ],
        [
         "DIRECCION",
         "0"
        ],
        [
         "TELEFONO",
         "0"
        ],
        [
         "SUPERVISOR",
         "0"
        ],
        [
         "DIRECTOR",
         "0"
        ],
        [
         "NIVEL",
         "0"
        ],
        [
         "SECTOR",
         "0"
        ],
        [
         "AREA",
         "0"
        ],
        [
         "STATUS",
         "0"
        ],
        [
         "MODALIDAD",
         "0"
        ],
        [
         "JORNADA",
         "0"
        ],
        [
         "PLAN",
         "0"
        ],
        [
         "DEPARTAMENTAL",
         "0"
        ]
       ],
       "shape": {
        "columns": 1,
        "rows": 17
       }
      },
      "text/plain": [
       "CODIGO             0\n",
       "DISTRITO           0\n",
       "DEPARTAMENTO       0\n",
       "MUNICIPIO          0\n",
       "ESTABLECIMIENTO    0\n",
       "DIRECCION          0\n",
       "TELEFONO           0\n",
       "SUPERVISOR         0\n",
       "DIRECTOR           0\n",
       "NIVEL              0\n",
       "SECTOR             0\n",
       "AREA               0\n",
       "STATUS             0\n",
       "MODALIDAD          0\n",
       "JORNADA            0\n",
       "PLAN               0\n",
       "DEPARTAMENTAL      0\n",
       "dtype: int64"
      ]
     },
     "execution_count": 120,
     "metadata": {},
     "output_type": "execute_result"
    }
   ],
   "source": [
    "# Diccionario de valores de reemplazo para cada columna\n",
    "valores_relleno = {\n",
    "    'DISTRITO': 'DISTRITO_NO_ESPECIFICADO',\n",
    "    'ESTABLECIMIENTO': 'NOMBRE_ESTABLECIMIENTO_DESCONOCIDO',\n",
    "    'DIRECCION': 'DIRECCION_NO_REGISTRADA',\n",
    "    'TELEFONO': 'SIN_TELEFONO',\n",
    "    'SUPERVISOR': 'SUPERVISOR_NO_ESPECIFICADO',\n",
    "    'DIRECTOR': 'DIRECTOR_NO_ESPECIFICADO'\n",
    "}\n",
    "\n",
    "df_limpio = df_limpio.fillna(valores_relleno)\n",
    "\n",
    "#confirmar que funciono\n",
    "print(\"\\n--- Conteo de valores faltante ---\")\n",
    "df_limpio.isnull().sum()\n",
    "\n",
    "\n"
   ]
  },
  {
   "cell_type": "code",
   "execution_count": 121,
   "id": "626d5f4d",
   "metadata": {},
   "outputs": [
    {
     "name": "stdout",
     "output_type": "stream",
     "text": [
      "\n",
      "--- Conteo de valores NA ---\n"
     ]
    },
    {
     "data": {
      "application/vnd.microsoft.datawrangler.viewer.v0+json": {
       "columns": [
        {
         "name": "index",
         "rawType": "object",
         "type": "string"
        },
        {
         "name": "0",
         "rawType": "int64",
         "type": "integer"
        }
       ],
       "ref": "dda31d74-984d-4e46-a627-6e495e10e471",
       "rows": [
        [
         "CODIGO",
         "0"
        ],
        [
         "DISTRITO",
         "0"
        ],
        [
         "DEPARTAMENTO",
         "0"
        ],
        [
         "MUNICIPIO",
         "0"
        ],
        [
         "ESTABLECIMIENTO",
         "0"
        ],
        [
         "DIRECCION",
         "0"
        ],
        [
         "TELEFONO",
         "0"
        ],
        [
         "SUPERVISOR",
         "0"
        ],
        [
         "DIRECTOR",
         "0"
        ],
        [
         "NIVEL",
         "0"
        ],
        [
         "SECTOR",
         "0"
        ],
        [
         "AREA",
         "0"
        ],
        [
         "STATUS",
         "0"
        ],
        [
         "MODALIDAD",
         "0"
        ],
        [
         "JORNADA",
         "0"
        ],
        [
         "PLAN",
         "0"
        ],
        [
         "DEPARTAMENTAL",
         "0"
        ]
       ],
       "shape": {
        "columns": 1,
        "rows": 17
       }
      },
      "text/plain": [
       "CODIGO             0\n",
       "DISTRITO           0\n",
       "DEPARTAMENTO       0\n",
       "MUNICIPIO          0\n",
       "ESTABLECIMIENTO    0\n",
       "DIRECCION          0\n",
       "TELEFONO           0\n",
       "SUPERVISOR         0\n",
       "DIRECTOR           0\n",
       "NIVEL              0\n",
       "SECTOR             0\n",
       "AREA               0\n",
       "STATUS             0\n",
       "MODALIDAD          0\n",
       "JORNADA            0\n",
       "PLAN               0\n",
       "DEPARTAMENTAL      0\n",
       "dtype: int64"
      ]
     },
     "execution_count": 121,
     "metadata": {},
     "output_type": "execute_result"
    }
   ],
   "source": [
    "print(\"\\n--- Conteo de valores NA ---\")\n",
    "df_limpio.isna().sum()"
   ]
  },
  {
   "cell_type": "markdown",
   "id": "a6868751",
   "metadata": {},
   "source": [
    "Ahora que los datos ya se encuentran sin valores vacíos, es importante normalizar algunas de las columnas. Con normalizar nos referimos a volver los valores de las cadenas todos mayusculas, o bien todo minuscula en el caso de nombres de lugares y personas. "
   ]
  },
  {
   "cell_type": "code",
   "execution_count": 122,
   "id": "b76bdf67",
   "metadata": {},
   "outputs": [],
   "source": [
    "# Volver departamento, municipio, establecimiento, direccion, supervisor, director a mayuscula\n",
    "columnas = [\"DEPARTAMENTO\", \"DEPARTAMENTAL\", \"MUNICIPIO\", \"ESTABLECIMIENTO\", \"DIRECCION\", \"SUPERVISOR\", \"DIRECTOR\"]\n",
    "\n",
    "for columna in columnas:\n",
    "    df_limpio[columna] = df_limpio[columna].str.upper()\n",
    "\n"
   ]
  },
  {
   "cell_type": "markdown",
   "id": "67f0e49d",
   "metadata": {},
   "source": [
    "# Normalización de número de telefono\n",
    "\n",
    "Este cambio es un poco más complejo, ya aquí pueden habre varios casos distintos para el número de telefono. Por ejemplo que el telefono tenga un guíon. De la forma xxxx-xxxx o bien, que este separado por espacio, xxxx xxxx. Para este esperamos tener al final solo 1 número de telefono conformado por 8 números. Para conseguir esto, es necesario evaluar cuales son las variaciones que hay dentro del set de datos."
   ]
  },
  {
   "cell_type": "code",
   "execution_count": 123,
   "id": "acfa6423",
   "metadata": {},
   "outputs": [
    {
     "name": "stdout",
     "output_type": "stream",
     "text": [
      "\n",
      "=== REPORTE DE DIAGNÓSTICO ===\n",
      "Total registros: 11272\n",
      "Registros con formato problemático: 253\n",
      "Porcentaje problemático: 2.24%\n",
      "\n",
      "--- Tipos de problemas encontrados ---\n",
      "TIPO_PROBLEMA\n",
      "LONGITUD_INCORRECTA    219\n",
      "MULTIPLES_TELEFONOS     34\n",
      "Name: count, dtype: int64\n",
      "\n",
      "--- Ejemplos de cada tipo ---\n",
      "\n",
      "Tipo: LONGITUD_INCORRECTA\n",
      "79504027-79504028\n",
      "          4085613\n",
      "78208583-78209143\n",
      "\n",
      "Tipo: MULTIPLES_TELEFONOS\n",
      "      25763,26725 Y 21568\n",
      "     25763, 26725 Y 21568\n",
      "2325732, 2320075, 2307014\n"
     ]
    }
   ],
   "source": [
    "# 1. Crear una columna temporal limpia\n",
    "df_limpio['TELEFONO_LIMPIO_TEMP'] = (\n",
    "    df_limpio['TELEFONO']\n",
    "    .astype(str)\n",
    "    .str.replace(r'[\\s-]', '', regex=True)\n",
    ")\n",
    "\n",
    "# 2. Identificar registros problemáticos\n",
    "mask_problematicos = ~df_limpio['TELEFONO_LIMPIO_TEMP'].str.fullmatch(r'(\\d{8}|SIN_TELEFONO)')\n",
    "problemas = df_limpio[mask_problematicos].copy()\n",
    "\n",
    "# 3. Análisis detallado\n",
    "print(\"\\n=== REPORTE DE DIAGNÓSTICO ===\")\n",
    "print(f\"Total registros: {len(df_limpio)}\")\n",
    "print(f\"Registros con formato problemático: {len(problemas)}\")\n",
    "print(f\"Porcentaje problemático: {len(problemas)/len(df_limpio)*100:.2f}%\")\n",
    "\n",
    "print(\"\\n--- Tipos de problemas encontrados ---\")\n",
    "problemas['TIPO_PROBLEMA'] = problemas['TELEFONO_LIMPIO_TEMP'].apply(\n",
    "    lambda x: 'MULTIPLES_TELEFONOS' if ',' in x or '-' in x \n",
    "             else ('LONGITUD_INCORRECTA' if len(x) != 8 \n",
    "                  else 'CARACTERES_INVALIDOS')\n",
    ")\n",
    "\n",
    "print(problemas['TIPO_PROBLEMA'].value_counts())\n",
    "\n",
    "print(\"\\n--- Ejemplos de cada tipo ---\")\n",
    "for tipo in problemas['TIPO_PROBLEMA'].unique():\n",
    "    print(f\"\\nTipo: {tipo}\")\n",
    "    print(problemas[problemas['TIPO_PROBLEMA'] == tipo]['TELEFONO'].head(3).to_string(index=False))"
   ]
  },
  {
   "cell_type": "markdown",
   "id": "734682f3",
   "metadata": {},
   "source": [
    "Como podemos ver hay varios numeros que no cumplen con el formato incluso después de haber removido guíones y espacios en blanco. Hay instituciones con números muy cortos o número múltiples. Para eso hay que procesar la columna para que los que no cumplan con el formato sean colocados como SIN_TELEFONO y además si hay más de un número, elegir el principal."
   ]
  },
  {
   "cell_type": "code",
   "execution_count": 124,
   "id": "cec76013",
   "metadata": {},
   "outputs": [
    {
     "name": "stdout",
     "output_type": "stream",
     "text": [
      "\n",
      "=== RESULTADO FINAL ===\n",
      "Distribución de valores:\n",
      "TELEFONO\n",
      "SIN_TELEFONO    1154\n",
      "22067425          69\n",
      "22093200          14\n",
      "79480009          14\n",
      "77602663          13\n",
      "Name: count, dtype: int64\n",
      "\n",
      "Estadísticas:\n",
      "Teléfonos válidos (8 dígitos): 10095\n",
      "'SIN_TELEFONO': 1154\n",
      "Otros formatos: 23\n"
     ]
    }
   ],
   "source": [
    "# tomamos el \n",
    "def procesar_telefono(tel):\n",
    "    if pd.isna(tel) or str(tel).strip() == 'nan':\n",
    "        return 'SIN_TELEFONO'\n",
    "    \n",
    "    tel = str(tel).strip()\n",
    "    \n",
    "    if tel == 'SIN_TELEFONO':\n",
    "        return tel\n",
    "    \n",
    "    # Limpieza básica\n",
    "    tel = tel.replace(' ', '').replace('-', '')\n",
    "    \n",
    "    # Caso múltiples teléfonos (separados por comas o guiones)\n",
    "    if ',' in tel:\n",
    "        return tel.split(',')[0][:8]  # Tomar el primer teléfono\n",
    "    elif '-' in tel and len(tel) > 8:  # Para casos como \"1234-5678\"\n",
    "        return tel.replace('-', '')[:8]\n",
    "    \n",
    "    # Verificar longitud correcta\n",
    "    return tel if tel.isdigit() and len(tel) == 8 else 'SIN_TELEFONO'\n",
    "\n",
    "# transformacion al telfono\n",
    "df_limpio['TELEFONO'] = df_limpio['TELEFONO'].apply(procesar_telefono)\n",
    "\n",
    "# 3. Verificación final\n",
    "print(\"\\n=== RESULTADO FINAL ===\")\n",
    "print(\"Distribución de valores:\")\n",
    "print(df_limpio['TELEFONO'].value_counts(dropna=False).head())\n",
    "\n",
    "print(\"\\nEstadísticas:\")\n",
    "print(f\"Teléfonos válidos (8 dígitos): {df_limpio['TELEFONO'].str.fullmatch(r'\\d{8}').sum()}\")\n",
    "print(f\"'SIN_TELEFONO': {(df_limpio['TELEFONO'] == 'SIN_TELEFONO').sum()}\")\n",
    "print(f\"Otros formatos: {len(df_limpio[~df_limpio['TELEFONO'].isin(['SIN_TELEFONO']) & ~df_limpio['TELEFONO'].str.fullmatch(r'\\d{8}', na=True)])}\")"
   ]
  },
  {
   "cell_type": "code",
   "execution_count": 125,
   "id": "acb106aa",
   "metadata": {},
   "outputs": [
    {
     "data": {
      "application/vnd.microsoft.datawrangler.viewer.v0+json": {
       "columns": [
        {
         "name": "index",
         "rawType": "object",
         "type": "string"
        },
        {
         "name": "0",
         "rawType": "int64",
         "type": "integer"
        }
       ],
       "ref": "1ed176e2-97c5-49bf-86a5-023567e65d2b",
       "rows": [
        [
         "CODIGO",
         "0"
        ],
        [
         "DISTRITO",
         "0"
        ],
        [
         "DEPARTAMENTO",
         "0"
        ],
        [
         "MUNICIPIO",
         "0"
        ],
        [
         "ESTABLECIMIENTO",
         "0"
        ],
        [
         "DIRECCION",
         "0"
        ],
        [
         "TELEFONO",
         "0"
        ],
        [
         "SUPERVISOR",
         "0"
        ],
        [
         "DIRECTOR",
         "0"
        ],
        [
         "NIVEL",
         "0"
        ],
        [
         "SECTOR",
         "0"
        ],
        [
         "AREA",
         "0"
        ],
        [
         "STATUS",
         "0"
        ],
        [
         "MODALIDAD",
         "0"
        ],
        [
         "JORNADA",
         "0"
        ],
        [
         "PLAN",
         "0"
        ],
        [
         "DEPARTAMENTAL",
         "0"
        ]
       ],
       "shape": {
        "columns": 1,
        "rows": 17
       }
      },
      "text/plain": [
       "CODIGO             0\n",
       "DISTRITO           0\n",
       "DEPARTAMENTO       0\n",
       "MUNICIPIO          0\n",
       "ESTABLECIMIENTO    0\n",
       "DIRECCION          0\n",
       "TELEFONO           0\n",
       "SUPERVISOR         0\n",
       "DIRECTOR           0\n",
       "NIVEL              0\n",
       "SECTOR             0\n",
       "AREA               0\n",
       "STATUS             0\n",
       "MODALIDAD          0\n",
       "JORNADA            0\n",
       "PLAN               0\n",
       "DEPARTAMENTAL      0\n",
       "dtype: int64"
      ]
     },
     "execution_count": 125,
     "metadata": {},
     "output_type": "execute_result"
    }
   ],
   "source": [
    "df_limpio.drop('TELEFONO_LIMPIO_TEMP', axis=1, inplace=True)\n",
    "df_limpio.isna().sum()"
   ]
  },
  {
   "cell_type": "code",
   "execution_count": 126,
   "id": "4816116d",
   "metadata": {},
   "outputs": [
    {
     "data": {
      "application/vnd.microsoft.datawrangler.viewer.v0+json": {
       "columns": [
        {
         "name": "index",
         "rawType": "int64",
         "type": "integer"
        },
        {
         "name": "CODIGO",
         "rawType": "object",
         "type": "string"
        },
        {
         "name": "DISTRITO",
         "rawType": "object",
         "type": "string"
        },
        {
         "name": "DEPARTAMENTO",
         "rawType": "object",
         "type": "string"
        },
        {
         "name": "MUNICIPIO",
         "rawType": "object",
         "type": "string"
        },
        {
         "name": "ESTABLECIMIENTO",
         "rawType": "object",
         "type": "string"
        },
        {
         "name": "DIRECCION",
         "rawType": "object",
         "type": "string"
        },
        {
         "name": "TELEFONO",
         "rawType": "object",
         "type": "string"
        },
        {
         "name": "SUPERVISOR",
         "rawType": "object",
         "type": "string"
        },
        {
         "name": "DIRECTOR",
         "rawType": "object",
         "type": "string"
        },
        {
         "name": "NIVEL",
         "rawType": "object",
         "type": "string"
        },
        {
         "name": "SECTOR",
         "rawType": "object",
         "type": "string"
        },
        {
         "name": "AREA",
         "rawType": "object",
         "type": "string"
        },
        {
         "name": "STATUS",
         "rawType": "object",
         "type": "string"
        },
        {
         "name": "MODALIDAD",
         "rawType": "object",
         "type": "string"
        },
        {
         "name": "JORNADA",
         "rawType": "object",
         "type": "string"
        },
        {
         "name": "PLAN",
         "rawType": "object",
         "type": "string"
        },
        {
         "name": "DEPARTAMENTAL",
         "rawType": "object",
         "type": "string"
        }
       ],
       "ref": "13933f53-5108-432d-955b-fb6ce991ed1a",
       "rows": [
        [
         "0",
         "16-01-0137-46",
         "16-006",
         "ALTA VERAPAZ",
         "COBAN",
         "INSTITUTO MIXTO NOCTURNO  FRANCISCO MARROQUIN",
         "6A. AVENIDA 1-15 ZONA 4",
         "SIN_TELEFONO",
         "JORGE EDUARDO PAQUE LÁZARO",
         "DIRECTOR_NO_ESPECIFICADO",
         "DIVERSIFICADO",
         "PRIVADO",
         "URBANA",
         "CERRADA DEFINITIVAMENTE",
         "MONOLINGUE",
         "NOCTURNA",
         "DIARIO(REGULAR)",
         "ALTA VERAPAZ"
        ],
        [
         "1",
         "16-01-0138-46",
         "16-031",
         "ALTA VERAPAZ",
         "COBAN",
         "COLEGIO  COBAN",
         "KM.2 SALIDA A SAN JUAN CHAMELCO ZONA 8",
         "77945104",
         "PATRICIO NAJARRO ASENCIO",
         "GUSTAVO ADOLFO SIERRA POP",
         "DIVERSIFICADO",
         "PRIVADO",
         "URBANA",
         "ABIERTA",
         "MONOLINGUE",
         "MATUTINA",
         "DIARIO(REGULAR)",
         "ALTA VERAPAZ"
        ],
        [
         "2",
         "16-01-0139-46",
         "16-031",
         "ALTA VERAPAZ",
         "COBAN",
         "COLEGIO PARTICULAR MIXTO  VERAPAZ",
         "KM 209.5 ENTRADA A LA CIUDAD",
         "77367402",
         "PATRICIO NAJARRO ASENCIO",
         "GILMA DOLORES GUAY PAZ DE LEAL",
         "DIVERSIFICADO",
         "PRIVADO",
         "URBANA",
         "ABIERTA",
         "MONOLINGUE",
         "MATUTINA",
         "DIARIO(REGULAR)",
         "ALTA VERAPAZ"
        ],
        [
         "3",
         "16-01-0140-46",
         "16-031",
         "ALTA VERAPAZ",
         "COBAN",
         "COLEGIO \"LA INMACULADA\"",
         "7A. AVENIDA 11-109 ZONA 6",
         "78232301",
         "PATRICIO NAJARRO ASENCIO",
         "VIRGINIA  SOLANO SERRANO",
         "DIVERSIFICADO",
         "PRIVADO",
         "URBANA",
         "ABIERTA",
         "MONOLINGUE",
         "MATUTINA",
         "DIARIO(REGULAR)",
         "ALTA VERAPAZ"
        ],
        [
         "4",
         "16-01-0141-46",
         "16-005",
         "ALTA VERAPAZ",
         "COBAN",
         "ESCUELA NACIONAL DE CIENCIAS COMERCIALES",
         "2A CALLE 11-10 ZONA 2",
         "79514215",
         "NORA LILIANA FIGUEROA HERNÁNDEZ",
         "HÉCTOR ROLANDO CHUN POOU",
         "DIVERSIFICADO",
         "OFICIAL",
         "URBANA",
         "ABIERTA",
         "MONOLINGUE",
         "MATUTINA",
         "DIARIO(REGULAR)",
         "ALTA VERAPAZ"
        ],
        [
         "5",
         "16-01-0142-46",
         "16-005",
         "ALTA VERAPAZ",
         "COBAN",
         "INSTITUTO NORMAL MIXTO DEL NORTE 'EMILIO ROSALES PONCE'",
         "3A AVE 6-23 ZONA 11",
         "79521468",
         "NORA LILIANA FIGUEROA HERNÁNDEZ",
         "VICTOR HUGO DOMÍNGUEZ REYES",
         "DIVERSIFICADO",
         "OFICIAL",
         "URBANA",
         "ABIERTA",
         "BILINGUE",
         "VESPERTINA",
         "DIARIO(REGULAR)",
         "ALTA VERAPAZ"
        ],
        [
         "6",
         "16-01-0143-46",
         "16-031",
         "ALTA VERAPAZ",
         "COBAN",
         "COLEGIO PARTICULAR MIXTO IMPERIAL",
         "5A. CALLE 1-9 ZONA 3",
         "57101061",
         "PATRICIO NAJARRO ASENCIO",
         "MYNOR GUSTAVO IPIÑA ESPAÑA",
         "DIVERSIFICADO",
         "PRIVADO",
         "URBANA",
         "ABIERTA",
         "MONOLINGUE",
         "DOBLE",
         "FIN DE SEMANA",
         "ALTA VERAPAZ"
        ],
        [
         "7",
         "16-01-0145-46",
         "16-006",
         "ALTA VERAPAZ",
         "COBAN",
         "INSTITUTO DE TURSMO Y AVIACON DEL NORTE I.T.A.N",
         "3 AV. 5-28 ZONA 4",
         "54641454",
         "JORGE EDUARDO PAQUE LÁZARO",
         "LUIS FERNANDO SOTO",
         "DIVERSIFICADO",
         "PRIVADO",
         "URBANA",
         "CERRADA TEMPORALMENTE",
         "MONOLINGUE",
         "MATUTINA",
         "DIARIO(REGULAR)",
         "ALTA VERAPAZ"
        ],
        [
         "8",
         "16-01-0147-46",
         "16-031",
         "ALTA VERAPAZ",
         "COBAN",
         "COLEGIO \"LA INMACULADA\"",
         "7A. CALLE 11-09 ZONA 6 COBAN",
         "49532425",
         "PATRICIO NAJARRO ASENCIO",
         "ROSA MARÍA ZAMORA GONZÁLEZ",
         "DIVERSIFICADO",
         "PRIVADO",
         "RURAL",
         "CERRADA TEMPORALMENTE",
         "MONOLINGUE",
         "DOBLE",
         "DIARIO(REGULAR)",
         "ALTA VERAPAZ"
        ],
        [
         "9",
         "16-01-0150-46",
         "16-006",
         "ALTA VERAPAZ",
         "COBAN",
         "INSTITUTO INTERCULTRUAL ALTAVERAPACENCESE -IIAV-",
         "3A. AVAENIDA 1-23 ZONA 4",
         "SIN_TELEFONO",
         "JORGE EDUARDO PAQUE LÁZARO",
         "GUILLERMO ESTUARDO VASQUEZ MORALES",
         "DIVERSIFICADO",
         "PRIVADO",
         "URBANA",
         "CERRADA TEMPORALMENTE",
         "BILINGUE",
         "DOBLE",
         "FIN DE SEMANA",
         "ALTA VERAPAZ"
        ],
        [
         "10",
         "16-01-0155-46",
         "16-031",
         "ALTA VERAPAZ",
         "COBAN",
         "LICEO \"MODERNO LATINO\"",
         "11 AVENIDA 5-17 ZONA 4",
         "79522555",
         "PATRICIO NAJARRO ASENCIO",
         "HÉCTOR ARMANDO TEYUL CHEN",
         "DIVERSIFICADO",
         "PRIVADO",
         "URBANA",
         "ABIERTA",
         "MONOLINGUE",
         "DOBLE",
         "FIN DE SEMANA",
         "ALTA VERAPAZ"
        ],
        [
         "11",
         "16-01-0428-46",
         "16-005",
         "ALTA VERAPAZ",
         "COBAN",
         "INSTITUTO NACIONAL DE EDUCACION DIVERSIFICADA",
         "DIAGONAL 08 8-05 ZONA 8, BARRIO CANTÓN LAS CASAS",
         "77930045",
         "NORA LILIANA FIGUEROA HERNÁNDEZ",
         "HELSON MARCO CHÉN GUTIERREZ",
         "DIVERSIFICADO",
         "OFICIAL",
         "RURAL",
         "ABIERTA",
         "MONOLINGUE",
         "VESPERTINA",
         "DIARIO(REGULAR)",
         "ALTA VERAPAZ"
        ],
        [
         "12",
         "16-01-0471-46",
         "16-031",
         "ALTA VERAPAZ",
         "COBAN",
         "COLEGIO DE INFORMATICA \"CENINFAV\"",
         "12 AV. 2-12 ZONA 1",
         "79545566",
         "PATRICIO NAJARRO ASENCIO",
         "MARIA MAGDALENA BOL CU",
         "DIVERSIFICADO",
         "PRIVADO",
         "URBANA",
         "ABIERTA",
         "MONOLINGUE",
         "VESPERTINA",
         "DIARIO(REGULAR)",
         "ALTA VERAPAZ"
        ],
        [
         "13",
         "16-01-0478-46",
         "16-031",
         "ALTA VERAPAZ",
         "COBAN",
         "COLEGIO EVANGELICO \"LA PATRIA\"",
         "FINCA CHIMAXITO ZONA 11",
         "79514440",
         "PATRICIO NAJARRO ASENCIO",
         "AURA EUNICE SOTO FONSECA",
         "DIVERSIFICADO",
         "PRIVADO",
         "URBANA",
         "CERRADA TEMPORALMENTE",
         "MONOLINGUE",
         "MATUTINA",
         "DIARIO(REGULAR)",
         "ALTA VERAPAZ"
        ],
        [
         "14",
         "16-01-0481-46",
         "16-031",
         "ALTA VERAPAZ",
         "COBAN",
         "LICEO AMERICANO DEL NORTE",
         "5TA. CALLE 2-23 ZONA 4",
         "79514754",
         "PATRICIO NAJARRO ASENCIO",
         "JOSÉ CUPERTINO REYES GARCIA",
         "DIVERSIFICADO",
         "PRIVADO",
         "URBANA",
         "ABIERTA",
         "MONOLINGUE",
         "MATUTINA",
         "DIARIO(REGULAR)",
         "ALTA VERAPAZ"
        ],
        [
         "15",
         "16-01-0483-46",
         "16-031",
         "ALTA VERAPAZ",
         "COBAN",
         "LICEO AMERICANO DEL NORTE",
         "5TA. CALLE 2-23 ZONA 4",
         "79514754",
         "PATRICIO NAJARRO ASENCIO",
         "JOSÉ CUPERTINO REYES GARCIA",
         "DIVERSIFICADO",
         "PRIVADO",
         "URBANA",
         "ABIERTA",
         "MONOLINGUE",
         "DOBLE",
         "FIN DE SEMANA",
         "ALTA VERAPAZ"
        ],
        [
         "16",
         "16-01-0557-46",
         "16-031",
         "ALTA VERAPAZ",
         "COBAN",
         "COLEGIO \"LA LIBERTAD\"",
         "3RA. AVENIDA 5-12 ZONA 4",
         "79523696",
         "PATRICIO NAJARRO ASENCIO",
         "ERICK FERNANDO CHOC GARCIA",
         "DIVERSIFICADO",
         "PRIVADO",
         "URBANA",
         "CERRADA TEMPORALMENTE",
         "MONOLINGUE",
         "DOBLE",
         "FIN DE SEMANA",
         "ALTA VERAPAZ"
        ],
        [
         "17",
         "16-01-0558-46",
         "16-005",
         "ALTA VERAPAZ",
         "COBAN",
         "INSTITUTO NORMAL PREPRIMARIA BILINGUE ADSCRITO AL INSTITUTO NORMAL MIXTO DEL NORTE \"EMILIO ROSALES PONCE\"",
         "3A. AVE. 6-23 ZONA 11",
         "79521468",
         "NORA LILIANA FIGUEROA HERNÁNDEZ",
         "VICTOR HUGO DOMÍNGUEZ REYES",
         "DIVERSIFICADO",
         "OFICIAL",
         "URBANA",
         "ABIERTA",
         "MONOLINGUE",
         "VESPERTINA",
         "DIARIO(REGULAR)",
         "ALTA VERAPAZ"
        ],
        [
         "18",
         "16-01-0559-46",
         "16-005",
         "ALTA VERAPAZ",
         "COBAN",
         "INSTITUTO NORMAL PRIMARIA BILINGUE INTERCULTURAL ADS. AL INSTITUTO EMILIO ROSALES PONCE",
         "3A. AVE. 6-23 ZONA 11",
         "79521468",
         "NORA LILIANA FIGUEROA HERNÁNDEZ",
         "VICTOR HUGO DOMÍNGUEZ REYES",
         "DIVERSIFICADO",
         "OFICIAL",
         "URBANA",
         "ABIERTA",
         "MONOLINGUE",
         "VESPERTINA",
         "DIARIO(REGULAR)",
         "ALTA VERAPAZ"
        ],
        [
         "19",
         "16-01-0563-46",
         "16-031",
         "ALTA VERAPAZ",
         "COBAN",
         "CENTRO DE FORMACION INTEGRAL LAS CONCHAS FMG",
         "ALDEA LAS CONCHAS",
         "79522793",
         "PATRICIO NAJARRO ASENCIO",
         "DAVID WALDEMAR URRUTIA CHOC",
         "DIVERSIFICADO",
         "PRIVADO",
         "RURAL",
         "ABIERTA",
         "MONOLINGUE",
         "VESPERTINA",
         "DIARIO(REGULAR)",
         "ALTA VERAPAZ"
        ],
        [
         "20",
         "16-01-0565-46",
         "16-031",
         "ALTA VERAPAZ",
         "COBAN",
         "INSTITUTO MIXTO PRIVADO \"SALUD Y DESARROLLO\"",
         "DIAGNONAL 1 1-26 ZONA 1",
         "51922050",
         "PATRICIO NAJARRO ASENCIO",
         "SAMANTHA GABRIELA DE LA CRUZ MORALES",
         "DIVERSIFICADO",
         "PRIVADO",
         "URBANA",
         "ABIERTA",
         "MONOLINGUE",
         "DOBLE",
         "FIN DE SEMANA",
         "ALTA VERAPAZ"
        ],
        [
         "21",
         "16-01-0568-46",
         "16-031",
         "ALTA VERAPAZ",
         "COBAN",
         "INSTITUTO PRIVADO RAUL CHENAL HEINEMANN",
         "5A. CALLE 1-06 ZONA 3",
         "79510413",
         "PATRICIO NAJARRO ASENCIO",
         "SILVIA BEATRIZ SOTO CHÉN",
         "DIVERSIFICADO",
         "PRIVADO",
         "URBANA",
         "ABIERTA",
         "MONOLINGUE",
         "NOCTURNA",
         "DIARIO(REGULAR)",
         "ALTA VERAPAZ"
        ],
        [
         "22",
         "16-01-0570-46",
         "16-031",
         "ALTA VERAPAZ",
         "COBAN",
         "LICEO MIGUEL ANGEL ASTURIAS",
         "7A. CALLE 1-13 ZONA 3",
         "79511103",
         "PATRICIO NAJARRO ASENCIO",
         "JAYRON ARIEL COY CACAO",
         "DIVERSIFICADO",
         "PRIVADO",
         "URBANA",
         "CERRADA TEMPORALMENTE",
         "MONOLINGUE",
         "DOBLE",
         "FIN DE SEMANA",
         "ALTA VERAPAZ"
        ],
        [
         "23",
         "16-01-0572-46",
         "16-031",
         "ALTA VERAPAZ",
         "COBAN",
         "LICEO MIGUEL ANGEL ASTURIAS",
         "7A. CALLE 1-13 ZONA 3",
         "79511103",
         "PATRICIO NAJARRO ASENCIO",
         "JAYRON ARIEL COY CACAO",
         "DIVERSIFICADO",
         "PRIVADO",
         "URBANA",
         "ABIERTA",
         "MONOLINGUE",
         "MATUTINA",
         "DIARIO(REGULAR)",
         "ALTA VERAPAZ"
        ],
        [
         "24",
         "16-01-0573-46",
         "16-031",
         "ALTA VERAPAZ",
         "COBAN",
         "COLEGIO CRISTIANO BILINGUE VERBO",
         "4A. CALLE A 4-32 ZONA 8",
         "77945181",
         "PATRICIO NAJARRO ASENCIO",
         "LESLY EUGENIA CHOCOOJ VIDAURRE",
         "DIVERSIFICADO",
         "PRIVADO",
         "URBANA",
         "ABIERTA",
         "MONOLINGUE",
         "MATUTINA",
         "DIARIO(REGULAR)",
         "ALTA VERAPAZ"
        ],
        [
         "25",
         "16-01-0574-46",
         "16-005",
         "ALTA VERAPAZ",
         "COBAN",
         "ESCUELA NACIONAL DE CIENCIAS COMERCIALES",
         "2A. CALLE 11-10 ZONA 2",
         "53530198",
         "NORA LILIANA FIGUEROA HERNÁNDEZ",
         "HÉCTOR ROLANDO CHUN POOU",
         "DIVERSIFICADO",
         "OFICIAL",
         "URBANA",
         "ABIERTA",
         "MONOLINGUE",
         "VESPERTINA",
         "DIARIO(REGULAR)",
         "ALTA VERAPAZ"
        ],
        [
         "26",
         "16-01-0583-46",
         "16-031",
         "ALTA VERAPAZ",
         "COBAN",
         "COLEGIO NUEVOS SENDEROS",
         "3A. CALLE 3-74, ZONA 3",
         "79417300",
         "PATRICIO NAJARRO ASENCIO",
         "ZOYLA ARGENTINA MOLLINEDO ALVARADO",
         "DIVERSIFICADO",
         "PRIVADO",
         "URBANA",
         "ABIERTA",
         "MONOLINGUE",
         "MATUTINA",
         "DIARIO(REGULAR)",
         "ALTA VERAPAZ"
        ],
        [
         "27",
         "16-01-0587-46",
         "16-026",
         "ALTA VERAPAZ",
         "COBAN",
         "LICEO MIXTO EN COMPUTACION DEL NORTE",
         "1A. CALLE Y 2A. AVENIDA LOTE 204, BARRIO EL CENTRO",
         "48633323",
         "EDETANO OXOM YAT",
         "JULIO ROBERTO PERALTA COL",
         "DIVERSIFICADO",
         "PRIVADO",
         "URBANA",
         "CERRADA DEFINITIVAMENTE",
         "MONOLINGUE",
         "DOBLE",
         "FIN DE SEMANA",
         "ALTA VERAPAZ"
        ],
        [
         "28",
         "16-01-0588-46",
         "16-026",
         "ALTA VERAPAZ",
         "COBAN",
         "LICEO MIXTO EN COMPUTACION DEL NORTE",
         "1A. CALLE Y 2A. AVENIDA LOTE 204, BARRIO EL CENTRO",
         "48633323",
         "EDETANO OXOM YAT",
         "JULIO ROBERTO PERALTA COL",
         "DIVERSIFICADO",
         "PRIVADO",
         "URBANA",
         "CERRADA DEFINITIVAMENTE",
         "MONOLINGUE",
         "DOBLE",
         "FIN DE SEMANA",
         "ALTA VERAPAZ"
        ],
        [
         "29",
         "16-01-0604-46",
         "16-031",
         "ALTA VERAPAZ",
         "COBAN",
         "INSTITUTO PRIVADO RAUL CHENAL HEINEMANN",
         "5A. CALLE 1-06, ZONA 3",
         "79510413",
         "PATRICIO NAJARRO ASENCIO",
         "SILVIA BEATRIZ SOTO CHÉN",
         "DIVERSIFICADO",
         "PRIVADO",
         "URBANA",
         "ABIERTA",
         "MONOLINGUE",
         "MATUTINA",
         "DIARIO(REGULAR)",
         "ALTA VERAPAZ"
        ],
        [
         "30",
         "16-01-0609-46",
         "16-031",
         "ALTA VERAPAZ",
         "COBAN",
         "INSTITUTO MIXTO DE EDUCACION BILINGUE INTERCULTURAL -IMEBI-",
         "LOTIFICACION CHIVENCORRAL",
         "30367501",
         "PATRICIO NAJARRO ASENCIO",
         "JUAN PASCUAL LUCAS ANTONIO",
         "DIVERSIFICADO",
         "PRIVADO",
         "URBANA",
         "ABIERTA",
         "MONOLINGUE",
         "VESPERTINA",
         "DIARIO(REGULAR)",
         "ALTA VERAPAZ"
        ],
        [
         "31",
         "16-01-0611-46",
         "16-031",
         "ALTA VERAPAZ",
         "COBAN",
         "COLEGIO HISPANOAMERICANO",
         "1A CALLE 17-41 COMUNIDAD PETET CHIXIC, ZONA 12",
         "74725125",
         "PATRICIO NAJARRO ASENCIO",
         "OCTAVIO ISMAEL BATZ CHOC",
         "DIVERSIFICADO",
         "PRIVADO",
         "URBANA",
         "CERRADA TEMPORALMENTE",
         "MONOLINGUE",
         "MATUTINA",
         "DIARIO(REGULAR)",
         "ALTA VERAPAZ"
        ],
        [
         "32",
         "16-01-0612-46",
         "16-031",
         "ALTA VERAPAZ",
         "COBAN",
         "INSTITUTO DE MAGISTERIO DE EDUCACION PREPRIMARIA INFANTIL BILINGUE INTERCULTURAL LUZ DEL SABER",
         "CALZADA RABIN AJAU, ZONA 1",
         "57565646",
         "PATRICIO NAJARRO ASENCIO",
         "THELMA MARTINA POP TZIR",
         "DIVERSIFICADO",
         "PRIVADO",
         "RURAL",
         "ABIERTA",
         "BILINGUE",
         "VESPERTINA",
         "DIARIO(REGULAR)",
         "ALTA VERAPAZ"
        ],
        [
         "33",
         "16-01-0613-46",
         "16-031",
         "ALTA VERAPAZ",
         "COBAN",
         "COLEGIO PARTICULAR MIXTO \"ANTON DE MONTESINOS\"",
         "1A. CALLE 7-22 ZONA 3",
         "77259205",
         "PATRICIO NAJARRO ASENCIO",
         "MARGARITA  VILLALOBOS LIGORRÍA",
         "DIVERSIFICADO",
         "PRIVADO",
         "URBANA",
         "ABIERTA",
         "MONOLINGUE",
         "MATUTINA",
         "DIARIO(REGULAR)",
         "ALTA VERAPAZ"
        ],
        [
         "34",
         "16-01-0616-46",
         "16-037",
         "ALTA VERAPAZ",
         "COBAN",
         "INSTITUTO NACIONAL DE EDUCACION DIVERSIFICADA",
         "ALDEA SALACUIM",
         "57655184",
         "CESAR RIGOBERTO CUC CAAL",
         "AXEL ABELARDO CHUB LEAL",
         "DIVERSIFICADO",
         "OFICIAL",
         "RURAL",
         "ABIERTA",
         "MONOLINGUE",
         "VESPERTINA",
         "DIARIO(REGULAR)",
         "ALTA VERAPAZ"
        ],
        [
         "35",
         "16-01-0619-46",
         "16-031",
         "ALTA VERAPAZ",
         "COBAN",
         "COLEGIO PARTICULAR MIXTO \"ANTON DE MONTESINOS\"",
         "1A. CALLE 7-22 ZONA 3",
         "77259205",
         "PATRICIO NAJARRO ASENCIO",
         "MARGARITA  VILLALOBOS LIGORRÍA",
         "DIVERSIFICADO",
         "PRIVADO",
         "URBANA",
         "CERRADA TEMPORALMENTE",
         "MONOLINGUE",
         "VESPERTINA",
         "DIARIO(REGULAR)",
         "ALTA VERAPAZ"
        ],
        [
         "36",
         "16-01-0642-46",
         "16-005",
         "ALTA VERAPAZ",
         "COBAN",
         "INSTITUTO NACIONAL DE EDUCACION DIVERSIFICADA",
         "ALDEA CHOVAL",
         "53331646",
         "NORA LILIANA FIGUEROA HERNÁNDEZ",
         "GILDA ARACELY WELLMANN DUARTE",
         "DIVERSIFICADO",
         "OFICIAL",
         "RURAL",
         "ABIERTA",
         "MONOLINGUE",
         "VESPERTINA",
         "DIARIO(REGULAR)",
         "ALTA VERAPAZ"
        ],
        [
         "37",
         "16-01-0646-46",
         "16-031",
         "ALTA VERAPAZ",
         "COBAN",
         "INSTITUTO MIXTO PRIVADO SALUD Y DESARROLLO",
         "DIAGNONAL 1 1-26 ZONA 1",
         "44042550",
         "PATRICIO NAJARRO ASENCIO",
         "ERWIN ROLANDO XOL CHUN",
         "DIVERSIFICADO",
         "PRIVADO",
         "URBANA",
         "CERRADA TEMPORALMENTE",
         "MONOLINGUE",
         "DOBLE",
         "FIN DE SEMANA",
         "ALTA VERAPAZ"
        ],
        [
         "38",
         "16-01-0647-46",
         "16-031",
         "ALTA VERAPAZ",
         "COBAN",
         "COLEGIO PARTICULAR MIXTO IMPERIAL",
         "5A. CALLE 1-98 ZONA 3",
         "57101061",
         "PATRICIO NAJARRO ASENCIO",
         "JUAN JOSÉ LUTHER MEJICANOS",
         "DIVERSIFICADO",
         "PRIVADO",
         "URBANA",
         "CERRADA DEFINITIVAMENTE",
         "MONOLINGUE",
         "MATUTINA",
         "DIARIO(REGULAR)",
         "ALTA VERAPAZ"
        ],
        [
         "39",
         "16-01-0651-46",
         "16-031",
         "ALTA VERAPAZ",
         "COBAN",
         "CENTRO DE FORMACIÓN INTEGRAL CIUDAD DE LA ESPERANZA",
         "6A. AV. 10-68 ZONA 12 COLONIA EL ESFUERZO I",
         "77367652",
         "PATRICIO NAJARRO ASENCIO",
         "BYRON ANIBAL GÓMEZ GATICA",
         "DIVERSIFICADO",
         "PRIVADO",
         "URBANA",
         "ABIERTA",
         "MONOLINGUE",
         "MATUTINA",
         "DIARIO(REGULAR)",
         "ALTA VERAPAZ"
        ],
        [
         "40",
         "16-01-0652-46",
         "16-037",
         "ALTA VERAPAZ",
         "COBAN",
         "INSTITUTO MAYA COMUNITARIO K'AMOLB'E",
         "ALDEA NIMLAJACOC",
         "30621374",
         "CESAR RIGOBERTO CUC CAAL",
         "JOSE LINO QUIB CHE",
         "DIVERSIFICADO",
         "PRIVADO",
         "RURAL",
         "ABIERTA",
         "BILINGUE",
         "VESPERTINA",
         "DIARIO(REGULAR)",
         "ALTA VERAPAZ"
        ],
        [
         "41",
         "16-01-0664-46",
         "16-031",
         "ALTA VERAPAZ",
         "COBAN",
         "LICEO AMERICANO DEL NORTE",
         "5TA. AVENIDA 2-23 ZONA 4",
         "79514754",
         "PATRICIO NAJARRO ASENCIO",
         "JOSÉ CUPERTINO REYES GARCIA",
         "DIVERSIFICADO",
         "PRIVADO",
         "URBANA",
         "ABIERTA",
         "MONOLINGUE",
         "MATUTINA",
         "DIARIO(REGULAR)",
         "ALTA VERAPAZ"
        ],
        [
         "42",
         "16-01-0665-46",
         "16-031",
         "ALTA VERAPAZ",
         "COBAN",
         "COLEGIO DE INFORMÁTICA \"CENINFAV\"",
         "12 AVENIDA 2-12 ZONA 1",
         "79545566",
         "PATRICIO NAJARRO ASENCIO",
         "MARIA MAGDALENA BOL CU",
         "DIVERSIFICADO",
         "PRIVADO",
         "URBANA",
         "CERRADA TEMPORALMENTE",
         "MONOLINGUE",
         "DOBLE",
         "DIARIO(REGULAR)",
         "ALTA VERAPAZ"
        ],
        [
         "43",
         "16-01-0666-46",
         "16-031",
         "ALTA VERAPAZ",
         "COBAN",
         "COLEGIO DE INFORMÁTICA \"CENINFAV\"",
         "12 AVENIDA 2-12 ZONA 1",
         "79521765",
         "PATRICIO NAJARRO ASENCIO",
         "HÉCTOR VIDAL BOL CÚ",
         "DIVERSIFICADO",
         "PRIVADO",
         "URBANA",
         "CERRADA TEMPORALMENTE",
         "MONOLINGUE",
         "DOBLE",
         "FIN DE SEMANA",
         "ALTA VERAPAZ"
        ],
        [
         "44",
         "16-01-0668-46",
         "16-031",
         "ALTA VERAPAZ",
         "COBAN",
         "COLEGIO PARTICULAR MIXTO IMPERIAL",
         "5A CALLE 1-98, ZONA 3",
         "57101061",
         "PATRICIO NAJARRO ASENCIO",
         "SUSELY BEATRIZ ELÍAS POP",
         "DIVERSIFICADO",
         "PRIVADO",
         "URBANA",
         "ABIERTA",
         "MONOLINGUE",
         "DOBLE",
         "DIARIO(REGULAR)",
         "ALTA VERAPAZ"
        ],
        [
         "45",
         "16-01-0671-46",
         "16-031",
         "ALTA VERAPAZ",
         "COBAN",
         "COLEGIO PRIVADO MIXTO TECNOLÓGICO EN INFORMÁTICA",
         "2A. CALLE 12-23 ZONA 4",
         "79521190",
         "PATRICIO NAJARRO ASENCIO",
         "JORGE SALVADOR JUÁREZ SIERRA",
         "DIVERSIFICADO",
         "PRIVADO",
         "URBANA",
         "ABIERTA",
         "MONOLINGUE",
         "DOBLE",
         "DIARIO(REGULAR)",
         "ALTA VERAPAZ"
        ],
        [
         "46",
         "16-01-0672-46",
         "16-031",
         "ALTA VERAPAZ",
         "COBAN",
         "ICA",
         "11AVENIDA 1-10 ZONA 1",
         "33509500",
         "PATRICIO NAJARRO ASENCIO",
         "LAIDY ANDREA CHOCOOJ TIUL",
         "DIVERSIFICADO",
         "PRIVADO",
         "URBANA",
         "ABIERTA",
         "MONOLINGUE",
         "MATUTINA",
         "DIARIO(REGULAR)",
         "ALTA VERAPAZ"
        ],
        [
         "47",
         "16-01-0678-46",
         "16-031",
         "ALTA VERAPAZ",
         "COBAN",
         "COLEGIO LA LIBERTAD",
         "3A. AVENIDA CINCO GUION DOCE (5-12)",
         "48979726",
         "PATRICIO NAJARRO ASENCIO",
         "SILVIA YOLANDA CAAL QUIM",
         "DIVERSIFICADO",
         "PRIVADO",
         "URBANA",
         "ABIERTA",
         "MONOLINGUE",
         "DOBLE",
         "FIN DE SEMANA",
         "ALTA VERAPAZ"
        ],
        [
         "48",
         "16-01-0681-46",
         "16-031",
         "ALTA VERAPAZ",
         "COBAN",
         "INSTITUTO MIXTO PRIVADO SANTO DOMINGO",
         "2A. CALLE 11-10, ZONA 2",
         "79529830",
         "PATRICIO NAJARRO ASENCIO",
         "AMÉRICA  NUILA LUTHER",
         "DIVERSIFICADO",
         "PRIVADO",
         "URBANA",
         "ABIERTA",
         "MONOLINGUE",
         "DOBLE",
         "FIN DE SEMANA",
         "ALTA VERAPAZ"
        ],
        [
         "49",
         "16-01-0690-46",
         "16-031",
         "ALTA VERAPAZ",
         "COBAN",
         "ISEA \"LA ESCUELA EN SU CASA\"",
         "1A. AV. 4-24 ZONA 2",
         "77930803",
         "PATRICIO NAJARRO ASENCIO",
         "LUDWING JOEL NORIEGA MORALES",
         "DIVERSIFICADO",
         "PRIVADO",
         "URBANA",
         "ABIERTA",
         "MONOLINGUE",
         "DOBLE",
         "A DISTANCIA",
         "ALTA VERAPAZ"
        ]
       ],
       "shape": {
        "columns": 17,
        "rows": 11272
       }
      },
      "text/html": [
       "<div>\n",
       "<style scoped>\n",
       "    .dataframe tbody tr th:only-of-type {\n",
       "        vertical-align: middle;\n",
       "    }\n",
       "\n",
       "    .dataframe tbody tr th {\n",
       "        vertical-align: top;\n",
       "    }\n",
       "\n",
       "    .dataframe thead th {\n",
       "        text-align: right;\n",
       "    }\n",
       "</style>\n",
       "<table border=\"1\" class=\"dataframe\">\n",
       "  <thead>\n",
       "    <tr style=\"text-align: right;\">\n",
       "      <th></th>\n",
       "      <th>CODIGO</th>\n",
       "      <th>DISTRITO</th>\n",
       "      <th>DEPARTAMENTO</th>\n",
       "      <th>MUNICIPIO</th>\n",
       "      <th>ESTABLECIMIENTO</th>\n",
       "      <th>DIRECCION</th>\n",
       "      <th>TELEFONO</th>\n",
       "      <th>SUPERVISOR</th>\n",
       "      <th>DIRECTOR</th>\n",
       "      <th>NIVEL</th>\n",
       "      <th>SECTOR</th>\n",
       "      <th>AREA</th>\n",
       "      <th>STATUS</th>\n",
       "      <th>MODALIDAD</th>\n",
       "      <th>JORNADA</th>\n",
       "      <th>PLAN</th>\n",
       "      <th>DEPARTAMENTAL</th>\n",
       "    </tr>\n",
       "  </thead>\n",
       "  <tbody>\n",
       "    <tr>\n",
       "      <th>0</th>\n",
       "      <td>16-01-0137-46</td>\n",
       "      <td>16-006</td>\n",
       "      <td>ALTA VERAPAZ</td>\n",
       "      <td>COBAN</td>\n",
       "      <td>INSTITUTO MIXTO NOCTURNO  FRANCISCO MARROQUIN</td>\n",
       "      <td>6A. AVENIDA 1-15 ZONA 4</td>\n",
       "      <td>SIN_TELEFONO</td>\n",
       "      <td>JORGE EDUARDO PAQUE LÁZARO</td>\n",
       "      <td>DIRECTOR_NO_ESPECIFICADO</td>\n",
       "      <td>DIVERSIFICADO</td>\n",
       "      <td>PRIVADO</td>\n",
       "      <td>URBANA</td>\n",
       "      <td>CERRADA DEFINITIVAMENTE</td>\n",
       "      <td>MONOLINGUE</td>\n",
       "      <td>NOCTURNA</td>\n",
       "      <td>DIARIO(REGULAR)</td>\n",
       "      <td>ALTA VERAPAZ</td>\n",
       "    </tr>\n",
       "    <tr>\n",
       "      <th>1</th>\n",
       "      <td>16-01-0138-46</td>\n",
       "      <td>16-031</td>\n",
       "      <td>ALTA VERAPAZ</td>\n",
       "      <td>COBAN</td>\n",
       "      <td>COLEGIO  COBAN</td>\n",
       "      <td>KM.2 SALIDA A SAN JUAN CHAMELCO ZONA 8</td>\n",
       "      <td>77945104</td>\n",
       "      <td>PATRICIO NAJARRO ASENCIO</td>\n",
       "      <td>GUSTAVO ADOLFO SIERRA POP</td>\n",
       "      <td>DIVERSIFICADO</td>\n",
       "      <td>PRIVADO</td>\n",
       "      <td>URBANA</td>\n",
       "      <td>ABIERTA</td>\n",
       "      <td>MONOLINGUE</td>\n",
       "      <td>MATUTINA</td>\n",
       "      <td>DIARIO(REGULAR)</td>\n",
       "      <td>ALTA VERAPAZ</td>\n",
       "    </tr>\n",
       "    <tr>\n",
       "      <th>2</th>\n",
       "      <td>16-01-0139-46</td>\n",
       "      <td>16-031</td>\n",
       "      <td>ALTA VERAPAZ</td>\n",
       "      <td>COBAN</td>\n",
       "      <td>COLEGIO PARTICULAR MIXTO  VERAPAZ</td>\n",
       "      <td>KM 209.5 ENTRADA A LA CIUDAD</td>\n",
       "      <td>77367402</td>\n",
       "      <td>PATRICIO NAJARRO ASENCIO</td>\n",
       "      <td>GILMA DOLORES GUAY PAZ DE LEAL</td>\n",
       "      <td>DIVERSIFICADO</td>\n",
       "      <td>PRIVADO</td>\n",
       "      <td>URBANA</td>\n",
       "      <td>ABIERTA</td>\n",
       "      <td>MONOLINGUE</td>\n",
       "      <td>MATUTINA</td>\n",
       "      <td>DIARIO(REGULAR)</td>\n",
       "      <td>ALTA VERAPAZ</td>\n",
       "    </tr>\n",
       "    <tr>\n",
       "      <th>3</th>\n",
       "      <td>16-01-0140-46</td>\n",
       "      <td>16-031</td>\n",
       "      <td>ALTA VERAPAZ</td>\n",
       "      <td>COBAN</td>\n",
       "      <td>COLEGIO \"LA INMACULADA\"</td>\n",
       "      <td>7A. AVENIDA 11-109 ZONA 6</td>\n",
       "      <td>78232301</td>\n",
       "      <td>PATRICIO NAJARRO ASENCIO</td>\n",
       "      <td>VIRGINIA  SOLANO SERRANO</td>\n",
       "      <td>DIVERSIFICADO</td>\n",
       "      <td>PRIVADO</td>\n",
       "      <td>URBANA</td>\n",
       "      <td>ABIERTA</td>\n",
       "      <td>MONOLINGUE</td>\n",
       "      <td>MATUTINA</td>\n",
       "      <td>DIARIO(REGULAR)</td>\n",
       "      <td>ALTA VERAPAZ</td>\n",
       "    </tr>\n",
       "    <tr>\n",
       "      <th>4</th>\n",
       "      <td>16-01-0141-46</td>\n",
       "      <td>16-005</td>\n",
       "      <td>ALTA VERAPAZ</td>\n",
       "      <td>COBAN</td>\n",
       "      <td>ESCUELA NACIONAL DE CIENCIAS COMERCIALES</td>\n",
       "      <td>2A CALLE 11-10 ZONA 2</td>\n",
       "      <td>79514215</td>\n",
       "      <td>NORA LILIANA FIGUEROA HERNÁNDEZ</td>\n",
       "      <td>HÉCTOR ROLANDO CHUN POOU</td>\n",
       "      <td>DIVERSIFICADO</td>\n",
       "      <td>OFICIAL</td>\n",
       "      <td>URBANA</td>\n",
       "      <td>ABIERTA</td>\n",
       "      <td>MONOLINGUE</td>\n",
       "      <td>MATUTINA</td>\n",
       "      <td>DIARIO(REGULAR)</td>\n",
       "      <td>ALTA VERAPAZ</td>\n",
       "    </tr>\n",
       "    <tr>\n",
       "      <th>...</th>\n",
       "      <td>...</td>\n",
       "      <td>...</td>\n",
       "      <td>...</td>\n",
       "      <td>...</td>\n",
       "      <td>...</td>\n",
       "      <td>...</td>\n",
       "      <td>...</td>\n",
       "      <td>...</td>\n",
       "      <td>...</td>\n",
       "      <td>...</td>\n",
       "      <td>...</td>\n",
       "      <td>...</td>\n",
       "      <td>...</td>\n",
       "      <td>...</td>\n",
       "      <td>...</td>\n",
       "      <td>...</td>\n",
       "      <td>...</td>\n",
       "    </tr>\n",
       "    <tr>\n",
       "      <th>11289</th>\n",
       "      <td>19-09-0902-46</td>\n",
       "      <td>19-021</td>\n",
       "      <td>ZACAPA</td>\n",
       "      <td>LA UNION</td>\n",
       "      <td>LICEO PARTICULAR MIXTO  JIREH  (POR MADUREZ)</td>\n",
       "      <td>BARRIO NUEVO</td>\n",
       "      <td>79418369</td>\n",
       "      <td>ASBEL IVÁN SÚCHITE ARROYO</td>\n",
       "      <td>ANA MARÍA CUELLAR GUERRA</td>\n",
       "      <td>DIVERSIFICADO</td>\n",
       "      <td>PRIVADO</td>\n",
       "      <td>URBANA</td>\n",
       "      <td>CERRADA DEFINITIVAMENTE</td>\n",
       "      <td>MONOLINGUE</td>\n",
       "      <td>DOBLE</td>\n",
       "      <td>FIN DE SEMANA</td>\n",
       "      <td>ZACAPA</td>\n",
       "    </tr>\n",
       "    <tr>\n",
       "      <th>11290</th>\n",
       "      <td>19-10-0008-46</td>\n",
       "      <td>19-015</td>\n",
       "      <td>ZACAPA</td>\n",
       "      <td>HUITE</td>\n",
       "      <td>INSTITUTO NACIONAL DE EDUCACION DIVERSIFICADA</td>\n",
       "      <td>DIRECCION_NO_REGISTRADA</td>\n",
       "      <td>SIN_TELEFONO</td>\n",
       "      <td>SILDY MARIELA PEREZ FRANCO</td>\n",
       "      <td>DIRECTOR_NO_ESPECIFICADO</td>\n",
       "      <td>DIVERSIFICADO</td>\n",
       "      <td>OFICIAL</td>\n",
       "      <td>RURAL</td>\n",
       "      <td>CERRADA DEFINITIVAMENTE</td>\n",
       "      <td>MONOLINGUE</td>\n",
       "      <td>VESPERTINA</td>\n",
       "      <td>DIARIO(REGULAR)</td>\n",
       "      <td>ZACAPA</td>\n",
       "    </tr>\n",
       "    <tr>\n",
       "      <th>11291</th>\n",
       "      <td>19-10-0013-46</td>\n",
       "      <td>19-015</td>\n",
       "      <td>ZACAPA</td>\n",
       "      <td>HUITE</td>\n",
       "      <td>INSTITUTO DIVERSIFICADO</td>\n",
       "      <td>BARRIO  BUENOS  AIRES</td>\n",
       "      <td>48579171</td>\n",
       "      <td>SILDY MARIELA PEREZ FRANCO</td>\n",
       "      <td>WUENDY JHOJANA SIERRA PAZ</td>\n",
       "      <td>DIVERSIFICADO</td>\n",
       "      <td>OFICIAL</td>\n",
       "      <td>URBANA</td>\n",
       "      <td>ABIERTA</td>\n",
       "      <td>MONOLINGUE</td>\n",
       "      <td>NOCTURNA</td>\n",
       "      <td>DIARIO(REGULAR)</td>\n",
       "      <td>ZACAPA</td>\n",
       "    </tr>\n",
       "    <tr>\n",
       "      <th>11292</th>\n",
       "      <td>19-10-1009-46</td>\n",
       "      <td>19-015</td>\n",
       "      <td>ZACAPA</td>\n",
       "      <td>HUITE</td>\n",
       "      <td>INSTITUTO DIVERSIFICADO POR COOPERATIVA</td>\n",
       "      <td>BARRIO EL  CAMPO</td>\n",
       "      <td>55958103</td>\n",
       "      <td>SILDY MARIELA PEREZ FRANCO</td>\n",
       "      <td>ROBIDIO  PORTILLO SALGUERO</td>\n",
       "      <td>DIVERSIFICADO</td>\n",
       "      <td>COOPERATIVA</td>\n",
       "      <td>URBANA</td>\n",
       "      <td>ABIERTA</td>\n",
       "      <td>MONOLINGUE</td>\n",
       "      <td>VESPERTINA</td>\n",
       "      <td>DIARIO(REGULAR)</td>\n",
       "      <td>ZACAPA</td>\n",
       "    </tr>\n",
       "    <tr>\n",
       "      <th>11293</th>\n",
       "      <td>19-11-0018-46</td>\n",
       "      <td>19-020</td>\n",
       "      <td>ZACAPA</td>\n",
       "      <td>SAN JORGE</td>\n",
       "      <td>INSTITUTO MIXTO DE EDUCACIÓN DIVERSIFICADA POR...</td>\n",
       "      <td>BARRIO EL CENTRO</td>\n",
       "      <td>41447589</td>\n",
       "      <td>ALBA LUZ MENDEZ</td>\n",
       "      <td>VICTOR HUGO GUERRA MONROY</td>\n",
       "      <td>DIVERSIFICADO</td>\n",
       "      <td>COOPERATIVA</td>\n",
       "      <td>URBANA</td>\n",
       "      <td>ABIERTA</td>\n",
       "      <td>MONOLINGUE</td>\n",
       "      <td>MATUTINA</td>\n",
       "      <td>DIARIO(REGULAR)</td>\n",
       "      <td>ZACAPA</td>\n",
       "    </tr>\n",
       "  </tbody>\n",
       "</table>\n",
       "<p>11272 rows × 17 columns</p>\n",
       "</div>"
      ],
      "text/plain": [
       "              CODIGO DISTRITO  DEPARTAMENTO  MUNICIPIO  \\\n",
       "0      16-01-0137-46   16-006  ALTA VERAPAZ      COBAN   \n",
       "1      16-01-0138-46   16-031  ALTA VERAPAZ      COBAN   \n",
       "2      16-01-0139-46   16-031  ALTA VERAPAZ      COBAN   \n",
       "3      16-01-0140-46   16-031  ALTA VERAPAZ      COBAN   \n",
       "4      16-01-0141-46   16-005  ALTA VERAPAZ      COBAN   \n",
       "...              ...      ...           ...        ...   \n",
       "11289  19-09-0902-46   19-021        ZACAPA   LA UNION   \n",
       "11290  19-10-0008-46   19-015        ZACAPA      HUITE   \n",
       "11291  19-10-0013-46   19-015        ZACAPA      HUITE   \n",
       "11292  19-10-1009-46   19-015        ZACAPA      HUITE   \n",
       "11293  19-11-0018-46   19-020        ZACAPA  SAN JORGE   \n",
       "\n",
       "                                         ESTABLECIMIENTO  \\\n",
       "0          INSTITUTO MIXTO NOCTURNO  FRANCISCO MARROQUIN   \n",
       "1                                         COLEGIO  COBAN   \n",
       "2                      COLEGIO PARTICULAR MIXTO  VERAPAZ   \n",
       "3                                COLEGIO \"LA INMACULADA\"   \n",
       "4               ESCUELA NACIONAL DE CIENCIAS COMERCIALES   \n",
       "...                                                  ...   \n",
       "11289       LICEO PARTICULAR MIXTO  JIREH  (POR MADUREZ)   \n",
       "11290      INSTITUTO NACIONAL DE EDUCACION DIVERSIFICADA   \n",
       "11291                            INSTITUTO DIVERSIFICADO   \n",
       "11292            INSTITUTO DIVERSIFICADO POR COOPERATIVA   \n",
       "11293  INSTITUTO MIXTO DE EDUCACIÓN DIVERSIFICADA POR...   \n",
       "\n",
       "                                    DIRECCION      TELEFONO  \\\n",
       "0                     6A. AVENIDA 1-15 ZONA 4  SIN_TELEFONO   \n",
       "1      KM.2 SALIDA A SAN JUAN CHAMELCO ZONA 8      77945104   \n",
       "2                KM 209.5 ENTRADA A LA CIUDAD      77367402   \n",
       "3                   7A. AVENIDA 11-109 ZONA 6      78232301   \n",
       "4                       2A CALLE 11-10 ZONA 2      79514215   \n",
       "...                                       ...           ...   \n",
       "11289                            BARRIO NUEVO      79418369   \n",
       "11290                 DIRECCION_NO_REGISTRADA  SIN_TELEFONO   \n",
       "11291                   BARRIO  BUENOS  AIRES      48579171   \n",
       "11292                        BARRIO EL  CAMPO      55958103   \n",
       "11293                        BARRIO EL CENTRO      41447589   \n",
       "\n",
       "                            SUPERVISOR                        DIRECTOR  \\\n",
       "0           JORGE EDUARDO PAQUE LÁZARO        DIRECTOR_NO_ESPECIFICADO   \n",
       "1             PATRICIO NAJARRO ASENCIO       GUSTAVO ADOLFO SIERRA POP   \n",
       "2             PATRICIO NAJARRO ASENCIO  GILMA DOLORES GUAY PAZ DE LEAL   \n",
       "3             PATRICIO NAJARRO ASENCIO        VIRGINIA  SOLANO SERRANO   \n",
       "4      NORA LILIANA FIGUEROA HERNÁNDEZ        HÉCTOR ROLANDO CHUN POOU   \n",
       "...                                ...                             ...   \n",
       "11289        ASBEL IVÁN SÚCHITE ARROYO        ANA MARÍA CUELLAR GUERRA   \n",
       "11290       SILDY MARIELA PEREZ FRANCO        DIRECTOR_NO_ESPECIFICADO   \n",
       "11291       SILDY MARIELA PEREZ FRANCO       WUENDY JHOJANA SIERRA PAZ   \n",
       "11292       SILDY MARIELA PEREZ FRANCO      ROBIDIO  PORTILLO SALGUERO   \n",
       "11293                  ALBA LUZ MENDEZ       VICTOR HUGO GUERRA MONROY   \n",
       "\n",
       "               NIVEL       SECTOR    AREA                   STATUS  \\\n",
       "0      DIVERSIFICADO      PRIVADO  URBANA  CERRADA DEFINITIVAMENTE   \n",
       "1      DIVERSIFICADO      PRIVADO  URBANA                  ABIERTA   \n",
       "2      DIVERSIFICADO      PRIVADO  URBANA                  ABIERTA   \n",
       "3      DIVERSIFICADO      PRIVADO  URBANA                  ABIERTA   \n",
       "4      DIVERSIFICADO      OFICIAL  URBANA                  ABIERTA   \n",
       "...              ...          ...     ...                      ...   \n",
       "11289  DIVERSIFICADO      PRIVADO  URBANA  CERRADA DEFINITIVAMENTE   \n",
       "11290  DIVERSIFICADO      OFICIAL   RURAL  CERRADA DEFINITIVAMENTE   \n",
       "11291  DIVERSIFICADO      OFICIAL  URBANA                  ABIERTA   \n",
       "11292  DIVERSIFICADO  COOPERATIVA  URBANA                  ABIERTA   \n",
       "11293  DIVERSIFICADO  COOPERATIVA  URBANA                  ABIERTA   \n",
       "\n",
       "        MODALIDAD     JORNADA             PLAN DEPARTAMENTAL  \n",
       "0      MONOLINGUE    NOCTURNA  DIARIO(REGULAR)  ALTA VERAPAZ  \n",
       "1      MONOLINGUE    MATUTINA  DIARIO(REGULAR)  ALTA VERAPAZ  \n",
       "2      MONOLINGUE    MATUTINA  DIARIO(REGULAR)  ALTA VERAPAZ  \n",
       "3      MONOLINGUE    MATUTINA  DIARIO(REGULAR)  ALTA VERAPAZ  \n",
       "4      MONOLINGUE    MATUTINA  DIARIO(REGULAR)  ALTA VERAPAZ  \n",
       "...           ...         ...              ...           ...  \n",
       "11289  MONOLINGUE       DOBLE    FIN DE SEMANA        ZACAPA  \n",
       "11290  MONOLINGUE  VESPERTINA  DIARIO(REGULAR)        ZACAPA  \n",
       "11291  MONOLINGUE    NOCTURNA  DIARIO(REGULAR)        ZACAPA  \n",
       "11292  MONOLINGUE  VESPERTINA  DIARIO(REGULAR)        ZACAPA  \n",
       "11293  MONOLINGUE    MATUTINA  DIARIO(REGULAR)        ZACAPA  \n",
       "\n",
       "[11272 rows x 17 columns]"
      ]
     },
     "execution_count": 126,
     "metadata": {},
     "output_type": "execute_result"
    }
   ],
   "source": [
    "df_limpio"
   ]
  }
 ],
 "metadata": {
  "kernelspec": {
   "display_name": "Python 3",
   "language": "python",
   "name": "python3"
  },
  "language_info": {
   "codemirror_mode": {
    "name": "ipython",
    "version": 3
   },
   "file_extension": ".py",
   "mimetype": "text/x-python",
   "name": "python",
   "nbconvert_exporter": "python",
   "pygments_lexer": "ipython3",
   "version": "3.12.2"
  }
 },
 "nbformat": 4,
 "nbformat_minor": 5
}
